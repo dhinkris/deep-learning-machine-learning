{
 "cells": [
  {
   "cell_type": "code",
   "execution_count": 1,
   "metadata": {
    "collapsed": false
   },
   "outputs": [
    {
     "ename": "NameError",
     "evalue": "name 'tweepy' is not defined",
     "output_type": "error",
     "traceback": [
      "\u001b[0;31m---------------------------------------------------------------------------\u001b[0m",
      "\u001b[0;31mNameError\u001b[0m                                 Traceback (most recent call last)",
      "\u001b[0;32m<ipython-input-1-96b74b3fd125>\u001b[0m in \u001b[0;36m<module>\u001b[0;34m()\u001b[0m\n\u001b[1;32m     19\u001b[0m \u001b[0mapi\u001b[0m \u001b[1;33m=\u001b[0m \u001b[0mAPI\u001b[0m\u001b[1;33m(\u001b[0m\u001b[0mauth\u001b[0m\u001b[1;33m,\u001b[0m \u001b[0mwait_on_rate_limit\u001b[0m\u001b[1;33m=\u001b[0m\u001b[1;32mTrue\u001b[0m\u001b[1;33m)\u001b[0m\u001b[1;33m\u001b[0m\u001b[0m\n\u001b[1;32m     20\u001b[0m \u001b[1;33m\u001b[0m\u001b[0m\n\u001b[0;32m---> 21\u001b[0;31m \u001b[0mdata\u001b[0m \u001b[1;33m=\u001b[0m \u001b[0mtweepy\u001b[0m\u001b[1;33m.\u001b[0m\u001b[0mCursor\u001b[0m\u001b[1;33m(\u001b[0m\u001b[0mapi\u001b[0m\u001b[1;33m.\u001b[0m\u001b[0msearch\u001b[0m\u001b[1;33m,\u001b[0m \u001b[0mq\u001b[0m\u001b[1;33m=\u001b[0m\u001b[1;34m'oscars'\u001b[0m\u001b[1;33m)\u001b[0m\u001b[1;33m.\u001b[0m\u001b[0mitems\u001b[0m\u001b[1;33m(\u001b[0m\u001b[0mMAX_TWEETS\u001b[0m\u001b[1;33m)\u001b[0m\u001b[1;33m\u001b[0m\u001b[0m\n\u001b[0m\u001b[1;32m     22\u001b[0m \u001b[0mmozsprint_data\u001b[0m \u001b[1;33m=\u001b[0m \u001b[1;33m[\u001b[0m\u001b[1;33m]\u001b[0m\u001b[1;33m\u001b[0m\u001b[0m\n\u001b[1;32m     23\u001b[0m \u001b[1;31m# You will use this line in production instead of this\u001b[0m\u001b[1;33m\u001b[0m\u001b[1;33m\u001b[0m\u001b[0m\n",
      "\u001b[0;31mNameError\u001b[0m: name 'tweepy' is not defined"
     ]
    }
   ],
   "source": [
    "from tweepy import OAuthHandler\n",
    "from tweepy import API\n",
    "from tweepy import Cursor\n",
    "import json\n",
    "import pandas as pd\n",
    "import time\n",
    "import matplotlib.pyplot as plt\n",
    "import numpy as np\n",
    "consumer_key=\"Gj2Jom5yJ83X3xKfKowbFyhK2\"\n",
    "consumer_secret=\"2HctlBNAsMG3mkDHm6tKcC0740jqdwHh9g2IVfrLxXT10ilQZo\"\n",
    "access_token=\"136011868-rM8MaIryZjsLRL7epoWC1hy7iixG5lej4LN5wICA\"\n",
    "access_token_secret=\"I9VbyWKe9drnYeOwNTG91aQPe8oJKQxivWwGC28I62OwK\"\n",
    "\n",
    "MAX_TWEETS = 50\n",
    "\n",
    "# This handles Twitter authentication and the connection to Twitter Streaming API\n",
    "auth = OAuthHandler(consumer_key, consumer_secret)\n",
    "auth.set_access_token(access_token, access_token_secret)\n",
    "api = API(auth, wait_on_rate_limit=True)\n",
    "\n",
    "data = Cursor(api.search, q='oscars').items(MAX_TWEETS)\n",
    "mozsprint_data = []\n",
    "# You will use this line in production instead of this\n",
    "# current_working_dir = os.path.dirname(os.path.realpath(__file__))\n",
    "current_working_dir = \"./\"\n",
    "log_tweets = current_working_dir + 'twittersdata.json'\n",
    "count=0\n",
    "with open(log_tweets, 'w') as outfile:\n",
    "    for tweet in data:\n",
    "        mozsprint_data.append(json.loads(json.dumps(tweet._json)))\n",
    "        outfile.write(json.dumps(tweet._json))\n",
    "        outfile.write(\"\\n\")\n",
    "        count=count+1\n",
    "print(len(mozsprint_data))\n",
    "\n",
    "# Create the dataframe we will use\n",
    "tweets = pd.DataFrame()\n",
    "# We want to know when a tweet was sent\n",
    "tweets['created_at'] = list(map(\n",
    "    lambda tweet: time.strftime('%Y-%m-%d %H:%M', time.strptime(tweet['created_at'], '%a %b %d %H:%M:%S +0000 %Y')),\n",
    "    mozsprint_data))\n",
    "# Who is the tweet owner\n",
    "tweets['user'] = list(map(lambda tweet: tweet['user']['screen_name'], mozsprint_data))\n",
    "# How many follower this user has+\n",
    "\n",
    "tweets['user_followers_count'] = list(map(lambda tweet: tweet['user']['followers_count'], mozsprint_data))\n",
    "tweets['text'] = list(map(lambda tweet: tweet['text'], mozsprint_data))\n",
    "tweets['lang'] = list(map(lambda tweet: tweet['lang'], mozsprint_data))\n",
    "tweets['Location'] = list(map(lambda tweet: tweet['place']['country'] if tweet['place'] != None else None, mozsprint_data))\n",
    "tweets['retweet_count'] = list(map(lambda tweet: tweet['retweet_count'], mozsprint_data))\n",
    "tweets['favorite_count'] = list(map(lambda tweet: tweet['favorite_count'], mozsprint_data))\n",
    "tweets['coordinates'] = list(map(lambda tweet: tweet['coordinates'] if tweet['place'] != None else None, mozsprint_data))\n",
    "tweets['screen_name'] = list(map(lambda tweet: tweet['user']['screen_name'], mozsprint_data))\n",
    "tweets['profile_image_url'] = list(map(lambda tweet: tweet['user']['profile_image_url'], mozsprint_data))\n",
    "tweets['followers_count'] = list(map(lambda tweet: tweet['user']['followers_count'], mozsprint_data))\n",
    "tweets['source'] = list(map(lambda tweet: tweet['source'], mozsprint_data))\n",
    "tweets['url'] = list(map(lambda tweet: tweet['user']['url'], mozsprint_data))\n",
    "tweets['local_lang'] = list(map(lambda tweet: tweet['metadata']['iso_language_code'], mozsprint_data))\n",
    "#print(tweets['coordinates'])\n",
    "\n",
    "#print(tweets.head())\n",
    "#print (tweets.head())\n",
    "#print(max(tweets['retweet_count']))\n",
    "#print(np.argsort(tweets['retweet_count'],order='a')[::-1][:5])\n",
    "# for index in tweets['text']:\n",
    "##print(index)\n",
    "def plot_tweets_per_category(category, title, x_title, y_title, top_n=5, output_filename=\"plot.png\"):\n",
    "    tweets_by_cat = category.value_counts()\n",
    "    fig, ax = plt.subplots()\n",
    "    ax.tick_params(axis='x')\n",
    "    ax.tick_params(axis='y')\n",
    "    ax.set_xlabel(x_title)\n",
    "    ax.set_ylabel(y_title)\n",
    "    ax.set_title(title)\n",
    "    tweets_by_cat[:top_n].plot(ax=ax, kind='line')\n",
    "    fig.savefig(output_filename)\n",
    "    fig.show()\n",
    "\n",
    "created_at = pd.DataFrame(tweets['created_at'].value_counts())\n",
    "#print(created_at[:5])\n",
    "\n",
    "plot_tweets_per_category(tweets['created_at'],\n",
    "                         \"\",\n",
    "                         \"Timeline\",\n",
    "                         \"Number of Tweets\",\n",
    "                         1000,\n",
    "                         \"Timeline.png\")\n",
    "\n",
    "\n",
    "name_profile = pd.DataFrame([tweets['screen_name'],tweets['profile_image_url'],tweets['followers_count']])\n",
    "#print(name_profile[:5])\n",
    "\n",
    "total_retweets=pd.DataFrame(tweets['retweet_count'])\n",
    "total_favourites=pd.DataFrame(tweets['favorite_count'])\n",
    "t_retweets = total_retweets.sum()\n",
    "t_favourites = total_favourites.sum()\n",
    "print((int(t_favourites)+int(t_retweets)))\n",
    "\n",
    "print(len(tweets['screen_name'].unique()))\n",
    "max_retweet = pd.DataFrame([tweets['screen_name'],tweets['profile_image_url'],tweets['retweet_count'],tweets['text'],tweets['url']])\n",
    "#print(max_retweet.describe())\n",
    "#max_retweet.sort(int(['retweet_count']),ascending=False)\n",
    "#print(max_retweet[:5])\n",
    "\n",
    "\n",
    "\n",
    "top_sites = pd.DataFrame(tweets['source'].value_counts())\n",
    "#print(top_sites[:5])\n",
    "\n",
    "location = pd.DataFrame(tweets['Location'].value_counts())\n",
    "#print(location[:5])\n",
    "\n",
    "language = pd.DataFrame(tweets['lang'].value_counts())\n",
    "#print(language[:5])\n",
    "\n",
    "local_lang = pd.DataFrame(tweets['local_lang'].value_counts())\n",
    "#print(local_lang[:5])\n",
    "\n",
    "location_coordinates = pd.DataFrame(tweets['Location'],tweets['coordinates'])\n",
    "#print(location_coordinates[:5])\n",
    "\n",
    "\n",
    "\n",
    "\n",
    "# df = pd.DataFrame(tweets['created_at'], columns=['number_tweets'])\n",
    "# # df['date'] = df.index\n",
    "# print(df.index)\n",
    "# print(df.head())"
   ]
  },
  {
   "cell_type": "code",
   "execution_count": 11,
   "metadata": {
    "collapsed": false
   },
   "outputs": [],
   "source": [
    "tweets=tweets.fillna(0)"
   ]
  },
  {
   "cell_type": "code",
   "execution_count": 12,
   "metadata": {
    "collapsed": false
   },
   "outputs": [
    {
     "data": {
      "text/plain": [
       "2017-03-13 01:40    8\n",
       "2017-03-13 01:36    7\n",
       "2017-03-13 01:35    7\n",
       "2017-03-13 01:39    6\n",
       "2017-03-13 01:41    6\n",
       "2017-03-13 01:34    4\n",
       "2017-03-13 01:38    3\n",
       "2017-03-13 01:33    3\n",
       "2017-03-13 01:32    3\n",
       "2017-03-13 01:37    3\n",
       "Name: created_at, dtype: int64"
      ]
     },
     "execution_count": 12,
     "metadata": {},
     "output_type": "execute_result"
    }
   ],
   "source": [
    "tweets['created_at'].value_counts()"
   ]
  },
  {
   "cell_type": "code",
   "execution_count": 13,
   "metadata": {
    "collapsed": false
   },
   "outputs": [
    {
     "data": {
      "text/html": [
       "<div>\n",
       "<table border=\"1\" class=\"dataframe\">\n",
       "  <thead>\n",
       "    <tr style=\"text-align: right;\">\n",
       "      <th></th>\n",
       "      <th>text</th>\n",
       "      <th>lang</th>\n",
       "      <th>retweet_count</th>\n",
       "    </tr>\n",
       "  </thead>\n",
       "  <tbody>\n",
       "    <tr>\n",
       "      <th>27</th>\n",
       "      <td>RT @KeithUrban: Sharing the love !!!!!!!!! #Os...</td>\n",
       "      <td>en</td>\n",
       "      <td>11579</td>\n",
       "    </tr>\n",
       "    <tr>\n",
       "      <th>18</th>\n",
       "      <td>RT @TheGabbieShow: i wish the oscars had a \"be...</td>\n",
       "      <td>en</td>\n",
       "      <td>2951</td>\n",
       "    </tr>\n",
       "    <tr>\n",
       "      <th>45</th>\n",
       "      <td>RT @DennisVanasse1: \"Deadpools\" @StefanKapicic...</td>\n",
       "      <td>en</td>\n",
       "      <td>2613</td>\n",
       "    </tr>\n",
       "    <tr>\n",
       "      <th>32</th>\n",
       "      <td>RT @DennisVanasse1: \"Deadpools\" @StefanKapicic...</td>\n",
       "      <td>en</td>\n",
       "      <td>2613</td>\n",
       "    </tr>\n",
       "    <tr>\n",
       "      <th>1</th>\n",
       "      <td>RT @DennisVanasse1: \"Deadpools\" @StefanKapicic...</td>\n",
       "      <td>en</td>\n",
       "      <td>2613</td>\n",
       "    </tr>\n",
       "    <tr>\n",
       "      <th>24</th>\n",
       "      <td>RT @DennisVanasse1: \"Deadpools\" @StefanKapicic...</td>\n",
       "      <td>en</td>\n",
       "      <td>2613</td>\n",
       "    </tr>\n",
       "    <tr>\n",
       "      <th>40</th>\n",
       "      <td>RT @DennisVanasse1: \"Deadpools\" @StefanKapicic...</td>\n",
       "      <td>en</td>\n",
       "      <td>2613</td>\n",
       "    </tr>\n",
       "    <tr>\n",
       "      <th>17</th>\n",
       "      <td>RT @DennisVanasse1: \"Deadpools\" @StefanKapicic...</td>\n",
       "      <td>en</td>\n",
       "      <td>2613</td>\n",
       "    </tr>\n",
       "    <tr>\n",
       "      <th>14</th>\n",
       "      <td>RT @DennisVanasse1: \"Deadpools\" @StefanKapicic...</td>\n",
       "      <td>en</td>\n",
       "      <td>2613</td>\n",
       "    </tr>\n",
       "    <tr>\n",
       "      <th>44</th>\n",
       "      <td>RT @DennisVanasse1: \"Deadpools\" @StefanKapicic...</td>\n",
       "      <td>en</td>\n",
       "      <td>2613</td>\n",
       "    </tr>\n",
       "    <tr>\n",
       "      <th>25</th>\n",
       "      <td>RT @DennisVanasse1: \"Deadpools\" @StefanKapicic...</td>\n",
       "      <td>en</td>\n",
       "      <td>2613</td>\n",
       "    </tr>\n",
       "    <tr>\n",
       "      <th>10</th>\n",
       "      <td>RT @DennisVanasse1: \"Deadpools\" @StefanKapicic...</td>\n",
       "      <td>en</td>\n",
       "      <td>2613</td>\n",
       "    </tr>\n",
       "  </tbody>\n",
       "</table>\n",
       "</div>"
      ],
      "text/plain": [
       "                                                 text lang  retweet_count\n",
       "27  RT @KeithUrban: Sharing the love !!!!!!!!! #Os...   en          11579\n",
       "18  RT @TheGabbieShow: i wish the oscars had a \"be...   en           2951\n",
       "45  RT @DennisVanasse1: \"Deadpools\" @StefanKapicic...   en           2613\n",
       "32  RT @DennisVanasse1: \"Deadpools\" @StefanKapicic...   en           2613\n",
       "1   RT @DennisVanasse1: \"Deadpools\" @StefanKapicic...   en           2613\n",
       "24  RT @DennisVanasse1: \"Deadpools\" @StefanKapicic...   en           2613\n",
       "40  RT @DennisVanasse1: \"Deadpools\" @StefanKapicic...   en           2613\n",
       "17  RT @DennisVanasse1: \"Deadpools\" @StefanKapicic...   en           2613\n",
       "14  RT @DennisVanasse1: \"Deadpools\" @StefanKapicic...   en           2613\n",
       "44  RT @DennisVanasse1: \"Deadpools\" @StefanKapicic...   en           2613\n",
       "25  RT @DennisVanasse1: \"Deadpools\" @StefanKapicic...   en           2613\n",
       "10  RT @DennisVanasse1: \"Deadpools\" @StefanKapicic...   en           2613"
      ]
     },
     "execution_count": 13,
     "metadata": {},
     "output_type": "execute_result"
    }
   ],
   "source": [
    "sort_by_retweet = (tweets.sort_values(['retweet_count'], ascending=[0])).loc[: 10,['text','lang','retweet_count']]\n",
    "sort_by_retweet"
   ]
  },
  {
   "cell_type": "code",
   "execution_count": 14,
   "metadata": {
    "collapsed": false
   },
   "outputs": [
    {
     "data": {
      "image/png": "[encoded data removed]",
      "text/plain": [
       "<matplotlib.figure.Figure at 0x26072f326a0>"
      ]
     },
     "metadata": {},
     "output_type": "display_data"
    }
   ],
   "source": [
    "from wordcloud import WordCloud, STOPWORDS, ImageColorGenerator\n",
    "\n",
    "text = \"test\".join(str(x) for x in tweets['text'])\n",
    "\n",
    "no_urls_no_tags = \" \".join([word for word in text.split()\n",
    "                            if 'http' not in word\n",
    "                            and not word.startswith('@')\n",
    "                            and word != 'RT'\n",
    "                            ])\n",
    "wc = WordCloud(background_color=\"white\", stopwords=STOPWORDS, width=1800,\n",
    "               height=1400)\n",
    "wc.generate(no_urls_no_tags)\n",
    "plt.imshow(wc)\n",
    "plt.axis(\"off\")\n",
    "plt.savefig('mozsprint.png')\n",
    "plt.show()"
   ]
  },
  {
   "cell_type": "code",
   "execution_count": 167,
   "metadata": {
    "collapsed": false
   },
   "outputs": [],
   "source": [
    "tweets.loc[tweets['retweet_count']==max(tweets['retweet_count']),['text','lang','retweet_count']]"
   ]
  },
  {
   "cell_type": "code",
   "execution_count": 21,
   "metadata": {
    "collapsed": false
   },
   "outputs": [
    {
     "data": {
      "text/html": [
       "<div>\n",
       "<table border=\"1\" class=\"dataframe\">\n",
       "  <thead>\n",
       "    <tr style=\"text-align: right;\">\n",
       "      <th></th>\n",
       "      <th>user</th>\n",
       "      <th>profile_image_url</th>\n",
       "    </tr>\n",
       "  </thead>\n",
       "  <tbody>\n",
       "    <tr>\n",
       "      <th>0</th>\n",
       "      <td>sinekdoks</td>\n",
       "      <td>http://pbs.twimg.com/profile_images/6361742328...</td>\n",
       "    </tr>\n",
       "    <tr>\n",
       "      <th>4</th>\n",
       "      <td>lajuantonsoup</td>\n",
       "      <td>http://pbs.twimg.com/profile_images/3788000001...</td>\n",
       "    </tr>\n",
       "    <tr>\n",
       "      <th>5</th>\n",
       "      <td>Septiaan_Re</td>\n",
       "      <td>http://pbs.twimg.com/profile_images/7183845470...</td>\n",
       "    </tr>\n",
       "    <tr>\n",
       "      <th>1</th>\n",
       "      <td>HannahDanilelaL</td>\n",
       "      <td>http://pbs.twimg.com/profile_images/7136091694...</td>\n",
       "    </tr>\n",
       "    <tr>\n",
       "      <th>3</th>\n",
       "      <td>MadhuSigns</td>\n",
       "      <td>http://pbs.twimg.com/profile_images/8406006771...</td>\n",
       "    </tr>\n",
       "    <tr>\n",
       "      <th>2</th>\n",
       "      <td>ShafShahid</td>\n",
       "      <td>http://pbs.twimg.com/profile_images/6953896683...</td>\n",
       "    </tr>\n",
       "    <tr>\n",
       "      <th>10</th>\n",
       "      <td>bradhende1rson</td>\n",
       "      <td>http://pbs.twimg.com/profile_images/7124442601...</td>\n",
       "    </tr>\n",
       "  </tbody>\n",
       "</table>\n",
       "</div>"
      ],
      "text/plain": [
       "               user                                  profile_image_url\n",
       "0         sinekdoks  http://pbs.twimg.com/profile_images/6361742328...\n",
       "4     lajuantonsoup  http://pbs.twimg.com/profile_images/3788000001...\n",
       "5       Septiaan_Re  http://pbs.twimg.com/profile_images/7183845470...\n",
       "1   HannahDanilelaL  http://pbs.twimg.com/profile_images/7136091694...\n",
       "3        MadhuSigns  http://pbs.twimg.com/profile_images/8406006771...\n",
       "2        ShafShahid  http://pbs.twimg.com/profile_images/6953896683...\n",
       "10   bradhende1rson  http://pbs.twimg.com/profile_images/7124442601..."
      ]
     },
     "execution_count": 21,
     "metadata": {},
     "output_type": "execute_result"
    }
   ],
   "source": [
    "recent_users = (tweets.sort_values(['created_at'], ascending=[0])).loc[:10,['user','profile_image_url']]\n",
    "recent_users[0:10]"
   ]
  },
  {
   "cell_type": "code",
   "execution_count": 22,
   "metadata": {
    "collapsed": false
   },
   "outputs": [
    {
     "data": {
      "text/html": [
       "<div>\n",
       "<table border=\"1\" class=\"dataframe\">\n",
       "  <thead>\n",
       "    <tr style=\"text-align: right;\">\n",
       "      <th></th>\n",
       "      <th>user</th>\n",
       "      <th>profile_image_url</th>\n",
       "    </tr>\n",
       "  </thead>\n",
       "  <tbody>\n",
       "    <tr>\n",
       "      <th>49</th>\n",
       "      <td>pops131</td>\n",
       "      <td>http://pbs.twimg.com/profile_images/5653333311...</td>\n",
       "    </tr>\n",
       "    <tr>\n",
       "      <th>38</th>\n",
       "      <td>Love_bug1016</td>\n",
       "      <td>http://pbs.twimg.com/profile_images/8399837951...</td>\n",
       "    </tr>\n",
       "    <tr>\n",
       "      <th>20</th>\n",
       "      <td>A_Trusts</td>\n",
       "      <td>http://pbs.twimg.com/profile_images/2713282910...</td>\n",
       "    </tr>\n",
       "    <tr>\n",
       "      <th>19</th>\n",
       "      <td>saminhim</td>\n",
       "      <td>http://pbs.twimg.com/profile_images/1159820179...</td>\n",
       "    </tr>\n",
       "    <tr>\n",
       "      <th>46</th>\n",
       "      <td>gra_underglam</td>\n",
       "      <td>http://pbs.twimg.com/profile_images/4406134881...</td>\n",
       "    </tr>\n",
       "    <tr>\n",
       "      <th>39</th>\n",
       "      <td>itsaboutlali</td>\n",
       "      <td>http://pbs.twimg.com/profile_images/8089184993...</td>\n",
       "    </tr>\n",
       "    <tr>\n",
       "      <th>5</th>\n",
       "      <td>Septiaan_Re</td>\n",
       "      <td>http://pbs.twimg.com/profile_images/7183845470...</td>\n",
       "    </tr>\n",
       "    <tr>\n",
       "      <th>22</th>\n",
       "      <td>AuroraNebulosa</td>\n",
       "      <td>http://pbs.twimg.com/profile_images/8290424594...</td>\n",
       "    </tr>\n",
       "    <tr>\n",
       "      <th>21</th>\n",
       "      <td>AuthoressRedd</td>\n",
       "      <td>http://pbs.twimg.com/profile_images/8364207098...</td>\n",
       "    </tr>\n",
       "    <tr>\n",
       "      <th>7</th>\n",
       "      <td>HollaAtYaBoiLou</td>\n",
       "      <td>http://pbs.twimg.com/profile_images/8052836572...</td>\n",
       "    </tr>\n",
       "  </tbody>\n",
       "</table>\n",
       "</div>"
      ],
      "text/plain": [
       "               user                                  profile_image_url\n",
       "49          pops131  http://pbs.twimg.com/profile_images/5653333311...\n",
       "38     Love_bug1016  http://pbs.twimg.com/profile_images/8399837951...\n",
       "20         A_Trusts  http://pbs.twimg.com/profile_images/2713282910...\n",
       "19         saminhim  http://pbs.twimg.com/profile_images/1159820179...\n",
       "46    gra_underglam  http://pbs.twimg.com/profile_images/4406134881...\n",
       "39     itsaboutlali  http://pbs.twimg.com/profile_images/8089184993...\n",
       "5       Septiaan_Re  http://pbs.twimg.com/profile_images/7183845470...\n",
       "22   AuroraNebulosa  http://pbs.twimg.com/profile_images/8290424594...\n",
       "21    AuthoressRedd  http://pbs.twimg.com/profile_images/8364207098...\n",
       "7   HollaAtYaBoiLou  http://pbs.twimg.com/profile_images/8052836572..."
      ]
     },
     "execution_count": 22,
     "metadata": {},
     "output_type": "execute_result"
    }
   ],
   "source": [
    "engagement_users = (tweets.sort_values(['followers_count'], ascending=[0])).loc[:10,['user','profile_image_url']]\n",
    "engagement_users[:10]"
   ]
  },
  {
   "cell_type": "code",
   "execution_count": 30,
   "metadata": {
    "collapsed": false
   },
   "outputs": [
    {
     "data": {
      "text/plain": [
       "Djmonikari28       4\n",
       "raj11Maheshwari    1\n",
       "bradhende1rson     1\n",
       "merytmills         1\n",
       "Septiaan_Re        1\n",
       "ShafShahid         1\n",
       "hSoresChildybg     1\n",
       "smallbusinesgsg    1\n",
       "Dieppe76France     1\n",
       "Love_bug1016       1\n",
       "MotherHubbsdra     1\n",
       "pops131            1\n",
       "lajuantonsoup      1\n",
       "HannahDanilelaL    1\n",
       "JTrehar            1\n",
       "Two_Cams25         1\n",
       "A_Trusts           1\n",
       "Endless_LyP        1\n",
       "GregKlymkiwCFC     1\n",
       "diceynk            1\n",
       "PierreWCoelnam     1\n",
       "gra_underglam      1\n",
       "HollaAtYaBoiLou    1\n",
       "itsaboutlali       1\n",
       "AlRob_MN           1\n",
       "smithblayen901     1\n",
       "MadhuSigns         1\n",
       "sAs422             1\n",
       "Moniquen9r8        1\n",
       "UnfitWii           1\n",
       "weRsuccessors      1\n",
       "AuroraNebulosa     1\n",
       "sinekdoks          1\n",
       "pwilsno98          1\n",
       "saminhim           1\n",
       "sebastalama        1\n",
       "aLuraKuriger       1\n",
       "AuthoressRedd      1\n",
       "elogertner         1\n",
       "gabbiehanna1221    1\n",
       "bcm112observer     1\n",
       "therealbevin       1\n",
       "gioo_mendes        1\n",
       "Filtered_Trump     1\n",
       "riaminx            1\n",
       "__piuwlz           1\n",
       "pumkinzsarea       1\n",
       "Name: user, dtype: int64"
      ]
     },
     "execution_count": 30,
     "metadata": {},
     "output_type": "execute_result"
    }
   ],
   "source": [
    "tweets['user'].value_counts()"
   ]
  },
  {
   "cell_type": "code",
   "execution_count": 27,
   "metadata": {
    "collapsed": false
   },
   "outputs": [
    {
     "data": {
      "text/plain": [
       "0            48\n",
       "Canada        1\n",
       "Indonesia     1\n",
       "Name: Location, dtype: int64"
      ]
     },
     "execution_count": 27,
     "metadata": {},
     "output_type": "execute_result"
    }
   ],
   "source": [
    "tweets['Location'].value_counts()"
   ]
  },
  {
   "cell_type": "code",
   "execution_count": 29,
   "metadata": {
    "collapsed": false
   },
   "outputs": [
    {
     "data": {
      "text/plain": [
       "en    42\n",
       "es     3\n",
       "sl     1\n",
       "et     1\n",
       "pt     1\n",
       "th     1\n",
       "in     1\n",
       "Name: lang, dtype: int64"
      ]
     },
     "execution_count": 29,
     "metadata": {},
     "output_type": "execute_result"
    }
   ],
   "source": [
    "tweets['lang'].value_counts()"
   ]
  },
  {
   "cell_type": "code",
   "execution_count": 8,
   "metadata": {
    "collapsed": false
   },
   "outputs": [],
   "source": [
    "import pygal as pg\n",
    "from IPython.display import SVG"
   ]
  },
  {
   "cell_type": "code",
   "execution_count": 9,
   "metadata": {
    "collapsed": false
   },
   "outputs": [
    {
     "data": {
      "text/plain": [
       "count        50.000000\n",
       "mean       9203.020000\n",
       "std       33534.864826\n",
       "min           5.000000\n",
       "25%          79.750000\n",
       "50%         636.500000\n",
       "75%        1934.750000\n",
       "max      169472.000000\n",
       "Name: user_followers_count, dtype: float64"
      ]
     },
     "execution_count": 9,
     "metadata": {},
     "output_type": "execute_result"
    }
   ],
   "source": [
    "tweets['user_followers_count'].describe()"
   ]
  },
  {
   "cell_type": "code",
   "execution_count": 83,
   "metadata": {
    "collapsed": false
   },
   "outputs": [
    {
     "data": {
      "text/html": [
       "<div>\n",
       "<table border=\"1\" class=\"dataframe\">\n",
       "  <thead>\n",
       "    <tr style=\"text-align: right;\">\n",
       "      <th></th>\n",
       "      <th>text</th>\n",
       "      <th>lang</th>\n",
       "      <th>retweet_count</th>\n",
       "    </tr>\n",
       "  </thead>\n",
       "  <tbody>\n",
       "    <tr>\n",
       "      <th>14</th>\n",
       "      <td>b'RT @telor_goyang: Nabil Ahmad dari mat despa...</td>\n",
       "      <td>in</td>\n",
       "      <td>16107</td>\n",
       "    </tr>\n",
       "    <tr>\n",
       "      <th>25</th>\n",
       "      <td>b'RT @telor_goyang: Nabil Ahmad dari mat despa...</td>\n",
       "      <td>in</td>\n",
       "      <td>16107</td>\n",
       "    </tr>\n",
       "    <tr>\n",
       "      <th>37</th>\n",
       "      <td>b'RT @telor_goyang: Nabil Ahmad dari mat despa...</td>\n",
       "      <td>in</td>\n",
       "      <td>16107</td>\n",
       "    </tr>\n",
       "  </tbody>\n",
       "</table>\n",
       "</div>"
      ],
      "text/plain": [
       "                                                 text lang  retweet_count\n",
       "14  b'RT @telor_goyang: Nabil Ahmad dari mat despa...   in          16107\n",
       "25  b'RT @telor_goyang: Nabil Ahmad dari mat despa...   in          16107\n",
       "37  b'RT @telor_goyang: Nabil Ahmad dari mat despa...   in          16107"
      ]
     },
     "execution_count": 83,
     "metadata": {},
     "output_type": "execute_result"
    }
   ],
   "source": [
    "tweets.loc[tweets['retweet_count']==max(tweets['retweet_count']),['text','lang','retweet_count']]"
   ]
  },
  {
   "cell_type": "code",
   "execution_count": 10,
   "metadata": {
    "collapsed": false
   },
   "outputs": [
    {
     "data": {
      "text/plain": [
       "36371"
      ]
     },
     "execution_count": 10,
     "metadata": {},
     "output_type": "execute_result"
    }
   ],
   "source": [
    "max(tweets['retweet_count'])"
   ]
  },
  {
   "cell_type": "code",
   "execution_count": 7,
   "metadata": {
    "collapsed": false
   },
   "outputs": [],
   "source": [
    "sort_by_retweet = (tweets.sort_values(['retweet_count'], ascending=[0])).loc[:10,['text','lang','retweet_count']]"
   ]
  },
  {
   "cell_type": "code",
   "execution_count": 8,
   "metadata": {
    "collapsed": false
   },
   "outputs": [
    {
     "data": {
      "text/html": [
       "<div>\n",
       "<table border=\"1\" class=\"dataframe\">\n",
       "  <thead>\n",
       "    <tr style=\"text-align: right;\">\n",
       "      <th></th>\n",
       "      <th>text</th>\n",
       "      <th>lang</th>\n",
       "      <th>retweet_count</th>\n",
       "    </tr>\n",
       "  </thead>\n",
       "  <tbody>\n",
       "    <tr>\n",
       "      <th>35</th>\n",
       "      <td>RT @joanneprada: me leaving the oscars after s...</td>\n",
       "      <td>en</td>\n",
       "      <td>28945</td>\n",
       "    </tr>\n",
       "    <tr>\n",
       "      <th>19</th>\n",
       "      <td>RT @IAmSteveHarvey: Call me Warren Beatty. I c...</td>\n",
       "      <td>en</td>\n",
       "      <td>14493</td>\n",
       "    </tr>\n",
       "    <tr>\n",
       "      <th>24</th>\n",
       "      <td>RT @KyleKriegerHair: For the record, here's so...</td>\n",
       "      <td>en</td>\n",
       "      <td>3251</td>\n",
       "    </tr>\n",
       "    <tr>\n",
       "      <th>2</th>\n",
       "      <td>RT @pettyblackgirI: Let us not forget the time...</td>\n",
       "      <td>en</td>\n",
       "      <td>2494</td>\n",
       "    </tr>\n",
       "    <tr>\n",
       "      <th>27</th>\n",
       "      <td>RT @pettyblackgirI: Let us not forget the time...</td>\n",
       "      <td>en</td>\n",
       "      <td>2494</td>\n",
       "    </tr>\n",
       "    <tr>\n",
       "      <th>7</th>\n",
       "      <td>RT @pettyblackgirI: Let us not forget the time...</td>\n",
       "      <td>en</td>\n",
       "      <td>2494</td>\n",
       "    </tr>\n",
       "    <tr>\n",
       "      <th>25</th>\n",
       "      <td>RT @DennisVanasse1: \"Deadpools\" @StefanKapicic...</td>\n",
       "      <td>en</td>\n",
       "      <td>2370</td>\n",
       "    </tr>\n",
       "    <tr>\n",
       "      <th>15</th>\n",
       "      <td>RT @DennisVanasse1: \"Deadpools\" @StefanKapicic...</td>\n",
       "      <td>en</td>\n",
       "      <td>2370</td>\n",
       "    </tr>\n",
       "    <tr>\n",
       "      <th>29</th>\n",
       "      <td>RT @DennisVanasse1: \"Deadpools\" @StefanKapicic...</td>\n",
       "      <td>en</td>\n",
       "      <td>2370</td>\n",
       "    </tr>\n",
       "    <tr>\n",
       "      <th>18</th>\n",
       "      <td>RT @DennisVanasse1: \"Deadpools\" @StefanKapicic...</td>\n",
       "      <td>en</td>\n",
       "      <td>2370</td>\n",
       "    </tr>\n",
       "    <tr>\n",
       "      <th>39</th>\n",
       "      <td>RT @DennisVanasse1: \"Deadpools\" @StefanKapicic...</td>\n",
       "      <td>en</td>\n",
       "      <td>2370</td>\n",
       "    </tr>\n",
       "    <tr>\n",
       "      <th>4</th>\n",
       "      <td>RT @DennisVanasse1: \"Deadpools\" @StefanKapicic...</td>\n",
       "      <td>en</td>\n",
       "      <td>2370</td>\n",
       "    </tr>\n",
       "    <tr>\n",
       "      <th>38</th>\n",
       "      <td>RT @mashable: \"WARREN, WHAT DID YOU DO?!?!\" #O...</td>\n",
       "      <td>en</td>\n",
       "      <td>1448</td>\n",
       "    </tr>\n",
       "    <tr>\n",
       "      <th>21</th>\n",
       "      <td>RT @Courtney: ❤ @taylorswift13 @lorde these tw...</td>\n",
       "      <td>en</td>\n",
       "      <td>1035</td>\n",
       "    </tr>\n",
       "    <tr>\n",
       "      <th>3</th>\n",
       "      <td>RT @EW: Now that's some truth. #Oscars https:/...</td>\n",
       "      <td>en</td>\n",
       "      <td>934</td>\n",
       "    </tr>\n",
       "    <tr>\n",
       "      <th>12</th>\n",
       "      <td>RT @UrselaQuinn: LA! ✈️ Looking Forward!! #Red...</td>\n",
       "      <td>en</td>\n",
       "      <td>585</td>\n",
       "    </tr>\n",
       "    <tr>\n",
       "      <th>41</th>\n",
       "      <td>RT @RavenBanner: RIP Anton Yelchin\\n#Oscars In...</td>\n",
       "      <td>en</td>\n",
       "      <td>323</td>\n",
       "    </tr>\n",
       "    <tr>\n",
       "      <th>40</th>\n",
       "      <td>RT @IvyLedger: I hope I can thank #HeathLedger...</td>\n",
       "      <td>en</td>\n",
       "      <td>92</td>\n",
       "    </tr>\n",
       "    <tr>\n",
       "      <th>22</th>\n",
       "      <td>RT @ShoebridgeC: UK govt re Oscars\\nhttps://t....</td>\n",
       "      <td>en</td>\n",
       "      <td>38</td>\n",
       "    </tr>\n",
       "    <tr>\n",
       "      <th>0</th>\n",
       "      <td>RT @vingadoresdepr: O Mahershala Ali, que conc...</td>\n",
       "      <td>pt</td>\n",
       "      <td>30</td>\n",
       "    </tr>\n",
       "    <tr>\n",
       "      <th>23</th>\n",
       "      <td>RT @MovieMantz: Now that the #Oscars are over,...</td>\n",
       "      <td>en</td>\n",
       "      <td>15</td>\n",
       "    </tr>\n",
       "    <tr>\n",
       "      <th>36</th>\n",
       "      <td>RT @MsPackyetti: Diversifying film isn't just ...</td>\n",
       "      <td>en</td>\n",
       "      <td>13</td>\n",
       "    </tr>\n",
       "    <tr>\n",
       "      <th>42</th>\n",
       "      <td>RT @14AussiePride14: What liberals want the Gr...</td>\n",
       "      <td>en</td>\n",
       "      <td>13</td>\n",
       "    </tr>\n",
       "    <tr>\n",
       "      <th>43</th>\n",
       "      <td>RT @YouHadOneJ0B: Platteville library in Wisco...</td>\n",
       "      <td>en</td>\n",
       "      <td>11</td>\n",
       "    </tr>\n",
       "    <tr>\n",
       "      <th>5</th>\n",
       "      <td>RT @YouHadOneJ0B: Platteville library in Wisco...</td>\n",
       "      <td>en</td>\n",
       "      <td>11</td>\n",
       "    </tr>\n",
       "    <tr>\n",
       "      <th>33</th>\n",
       "      <td>RT @YouHadOneJ0B: Platteville library in Wisco...</td>\n",
       "      <td>en</td>\n",
       "      <td>11</td>\n",
       "    </tr>\n",
       "    <tr>\n",
       "      <th>13</th>\n",
       "      <td>RT @nvidiashield: Who will be watching the #Os...</td>\n",
       "      <td>en</td>\n",
       "      <td>7</td>\n",
       "    </tr>\n",
       "    <tr>\n",
       "      <th>14</th>\n",
       "      <td>RT @julieburtonwmc: The Oscars rarely celebrat...</td>\n",
       "      <td>en</td>\n",
       "      <td>4</td>\n",
       "    </tr>\n",
       "    <tr>\n",
       "      <th>28</th>\n",
       "      <td>RT @BritishVogue: She was called a “seal” and ...</td>\n",
       "      <td>en</td>\n",
       "      <td>3</td>\n",
       "    </tr>\n",
       "    <tr>\n",
       "      <th>10</th>\n",
       "      <td>RT @grupogoliat: Un buen uso de la tipografía ...</td>\n",
       "      <td>es</td>\n",
       "      <td>2</td>\n",
       "    </tr>\n",
       "  </tbody>\n",
       "</table>\n",
       "</div>"
      ],
      "text/plain": [
       "                                                 text lang  retweet_count\n",
       "35  RT @joanneprada: me leaving the oscars after s...   en          28945\n",
       "19  RT @IAmSteveHarvey: Call me Warren Beatty. I c...   en          14493\n",
       "24  RT @KyleKriegerHair: For the record, here's so...   en           3251\n",
       "2   RT @pettyblackgirI: Let us not forget the time...   en           2494\n",
       "27  RT @pettyblackgirI: Let us not forget the time...   en           2494\n",
       "7   RT @pettyblackgirI: Let us not forget the time...   en           2494\n",
       "25  RT @DennisVanasse1: \"Deadpools\" @StefanKapicic...   en           2370\n",
       "15  RT @DennisVanasse1: \"Deadpools\" @StefanKapicic...   en           2370\n",
       "29  RT @DennisVanasse1: \"Deadpools\" @StefanKapicic...   en           2370\n",
       "18  RT @DennisVanasse1: \"Deadpools\" @StefanKapicic...   en           2370\n",
       "39  RT @DennisVanasse1: \"Deadpools\" @StefanKapicic...   en           2370\n",
       "4   RT @DennisVanasse1: \"Deadpools\" @StefanKapicic...   en           2370\n",
       "38  RT @mashable: \"WARREN, WHAT DID YOU DO?!?!\" #O...   en           1448\n",
       "21  RT @Courtney: ❤ @taylorswift13 @lorde these tw...   en           1035\n",
       "3   RT @EW: Now that's some truth. #Oscars https:/...   en            934\n",
       "12  RT @UrselaQuinn: LA! ✈️ Looking Forward!! #Red...   en            585\n",
       "41  RT @RavenBanner: RIP Anton Yelchin\\n#Oscars In...   en            323\n",
       "40  RT @IvyLedger: I hope I can thank #HeathLedger...   en             92\n",
       "22  RT @ShoebridgeC: UK govt re Oscars\\nhttps://t....   en             38\n",
       "0   RT @vingadoresdepr: O Mahershala Ali, que conc...   pt             30\n",
       "23  RT @MovieMantz: Now that the #Oscars are over,...   en             15\n",
       "36  RT @MsPackyetti: Diversifying film isn't just ...   en             13\n",
       "42  RT @14AussiePride14: What liberals want the Gr...   en             13\n",
       "43  RT @YouHadOneJ0B: Platteville library in Wisco...   en             11\n",
       "5   RT @YouHadOneJ0B: Platteville library in Wisco...   en             11\n",
       "33  RT @YouHadOneJ0B: Platteville library in Wisco...   en             11\n",
       "13  RT @nvidiashield: Who will be watching the #Os...   en              7\n",
       "14  RT @julieburtonwmc: The Oscars rarely celebrat...   en              4\n",
       "28  RT @BritishVogue: She was called a “seal” and ...   en              3\n",
       "10  RT @grupogoliat: Un buen uso de la tipografía ...   es              2"
      ]
     },
     "execution_count": 8,
     "metadata": {},
     "output_type": "execute_result"
    }
   ],
   "source": [
    "sort_by_retweet.loc[:10,['text','lang','retweet_count']]"
   ]
  },
  {
   "cell_type": "code",
   "execution_count": 15,
   "metadata": {
    "collapsed": false
   },
   "outputs": [
    {
     "data": {
      "image/png": "[encoded data removed]",
      "text/plain": [
       "<matplotlib.figure.Figure at 0x1d6047febe0>"
      ]
     },
     "metadata": {},
     "output_type": "display_data"
    }
   ],
   "source": [
    "from wordcloud import WordCloud, STOPWORDS, ImageColorGenerator\n",
    "\n",
    "text = \"test\".join(str(x) for x in tweets['text'])\n",
    "\n",
    "no_urls_no_tags = \" \".join([word for word in text.split()\n",
    "                            if 'http' not in word\n",
    "                            and not word.startswith('@')\n",
    "                            and word != 'RT'\n",
    "                            ])\n",
    "wc = WordCloud(background_color=\"white\", stopwords=STOPWORDS, width=1800,\n",
    "               height=1400)\n",
    "wc.generate(no_urls_no_tags)\n",
    "plt.imshow(wc)\n",
    "plt.axis(\"off\")\n",
    "plt.savefig('mozsprint.png')\n",
    "plt.show()"
   ]
  },
  {
   "cell_type": "code",
   "execution_count": 156,
   "metadata": {
    "collapsed": false
   },
   "outputs": [
    {
     "data": {
      "text/plain": [
       "b'Por fin tenemos una respuesta a la rara forma de aplaudir de Nicole Kidman en los #Oscars\\nhttps://t.co/JePmI312YT'"
      ]
     },
     "execution_count": 156,
     "metadata": {},
     "output_type": "execute_result"
    }
   ],
   "source": [
    "tweets['text'][9]"
   ]
  },
  {
   "cell_type": "code",
   "execution_count": 13,
   "metadata": {
    "collapsed": false
   },
   "outputs": [
    {
     "data": {
      "image/svg+xml": [
       "<svg class=\"pygal-chart\" id=\"chart-1b737dbd-ee1c-4d23-87a0-0690a7d5bc2c\" viewBox=\"0 0 800 600\" xmlns=\"http://www.w3.org/2000/svg\" xmlns:xlink=\"http://www.w3.org/1999/xlink\"><!--Generated with pygal 2.3.1 (lxml) ©Kozea 2012-2016 on 2017-03-11--><!--http://pygal.org--><!--http://github.com/Kozea/pygal--><defs><style type=\"text/css\">#chart-1b737dbd-ee1c-4d23-87a0-0690a7d5bc2c{-webkit-user-select:none;-webkit-font-smoothing:antialiased;font-family:Consolas,&quot;Liberation Mono&quot;,Menlo,Courier,monospace}#chart-1b737dbd-ee1c-4d23-87a0-0690a7d5bc2c .title{font-family:Consolas,&quot;Liberation Mono&quot;,Menlo,Courier,monospace;font-size:16px}#chart-1b737dbd-ee1c-4d23-87a0-0690a7d5bc2c .legends .legend text{font-family:Consolas,&quot;Liberation Mono&quot;,Menlo,Courier,monospace;font-size:14px}#chart-1b737dbd-ee1c-4d23-87a0-0690a7d5bc2c .axis text{font-family:Consolas,&quot;Liberation Mono&quot;,Menlo,Courier,monospace;font-size:10px}#chart-1b737dbd-ee1c-4d23-87a0-0690a7d5bc2c .axis text.major{font-family:Consolas,&quot;Liberation Mono&quot;,Menlo,Courier,monospace;font-size:10px}#chart-1b737dbd-ee1c-4d23-87a0-0690a7d5bc2c .text-overlay text.value{font-family:Consolas,&quot;Liberation Mono&quot;,Menlo,Courier,monospace;font-size:16px}#chart-1b737dbd-ee1c-4d23-87a0-0690a7d5bc2c .text-overlay text.label{font-family:Consolas,&quot;Liberation Mono&quot;,Menlo,Courier,monospace;font-size:10px}#chart-1b737dbd-ee1c-4d23-87a0-0690a7d5bc2c .tooltip{font-family:Consolas,&quot;Liberation Mono&quot;,Menlo,Courier,monospace;font-size:14px}#chart-1b737dbd-ee1c-4d23-87a0-0690a7d5bc2c text.no_data{font-family:Consolas,&quot;Liberation Mono&quot;,Menlo,Courier,monospace;font-size:64px}\n",
       "#chart-1b737dbd-ee1c-4d23-87a0-0690a7d5bc2c{background-color:rgba(249,249,249,1)}#chart-1b737dbd-ee1c-4d23-87a0-0690a7d5bc2c path,#chart-1b737dbd-ee1c-4d23-87a0-0690a7d5bc2c line,#chart-1b737dbd-ee1c-4d23-87a0-0690a7d5bc2c rect,#chart-1b737dbd-ee1c-4d23-87a0-0690a7d5bc2c circle{-webkit-transition:150ms;-moz-transition:150ms;transition:150ms}#chart-1b737dbd-ee1c-4d23-87a0-0690a7d5bc2c .graph &gt; .background{fill:rgba(249,249,249,1)}#chart-1b737dbd-ee1c-4d23-87a0-0690a7d5bc2c .plot &gt; .background{fill:rgba(255,255,255,1)}#chart-1b737dbd-ee1c-4d23-87a0-0690a7d5bc2c .graph{fill:rgba(0,0,0,.87)}#chart-1b737dbd-ee1c-4d23-87a0-0690a7d5bc2c text.no_data{fill:rgba(0,0,0,1)}#chart-1b737dbd-ee1c-4d23-87a0-0690a7d5bc2c .title{fill:rgba(0,0,0,1)}#chart-1b737dbd-ee1c-4d23-87a0-0690a7d5bc2c .legends .legend text{fill:rgba(0,0,0,.87)}#chart-1b737dbd-ee1c-4d23-87a0-0690a7d5bc2c .legends .legend:hover text{fill:rgba(0,0,0,1)}#chart-1b737dbd-ee1c-4d23-87a0-0690a7d5bc2c .axis .line{stroke:rgba(0,0,0,1)}#chart-1b737dbd-ee1c-4d23-87a0-0690a7d5bc2c .axis .guide.line{stroke:rgba(0,0,0,.54)}#chart-1b737dbd-ee1c-4d23-87a0-0690a7d5bc2c .axis .major.line{stroke:rgba(0,0,0,.87)}#chart-1b737dbd-ee1c-4d23-87a0-0690a7d5bc2c .axis text.major{fill:rgba(0,0,0,1)}#chart-1b737dbd-ee1c-4d23-87a0-0690a7d5bc2c .axis.y .guides:hover .guide.line,#chart-1b737dbd-ee1c-4d23-87a0-0690a7d5bc2c .line-graph .axis.x .guides:hover .guide.line,#chart-1b737dbd-ee1c-4d23-87a0-0690a7d5bc2c .stackedline-graph .axis.x .guides:hover .guide.line,#chart-1b737dbd-ee1c-4d23-87a0-0690a7d5bc2c .xy-graph .axis.x .guides:hover .guide.line{stroke:rgba(0,0,0,1)}#chart-1b737dbd-ee1c-4d23-87a0-0690a7d5bc2c .axis .guides:hover text{fill:rgba(0,0,0,1)}#chart-1b737dbd-ee1c-4d23-87a0-0690a7d5bc2c .reactive{fill-opacity:.7;stroke-opacity:.8}#chart-1b737dbd-ee1c-4d23-87a0-0690a7d5bc2c .ci{stroke:rgba(0,0,0,.87)}#chart-1b737dbd-ee1c-4d23-87a0-0690a7d5bc2c .reactive.active,#chart-1b737dbd-ee1c-4d23-87a0-0690a7d5bc2c .active .reactive{fill-opacity:.8;stroke-opacity:.9;stroke-width:4}#chart-1b737dbd-ee1c-4d23-87a0-0690a7d5bc2c .ci .reactive.active{stroke-width:1.5}#chart-1b737dbd-ee1c-4d23-87a0-0690a7d5bc2c .series text{fill:rgba(0,0,0,1)}#chart-1b737dbd-ee1c-4d23-87a0-0690a7d5bc2c .tooltip rect{fill:rgba(255,255,255,1);stroke:rgba(0,0,0,1);-webkit-transition:opacity 150ms;-moz-transition:opacity 150ms;transition:opacity 150ms}#chart-1b737dbd-ee1c-4d23-87a0-0690a7d5bc2c .tooltip .label{fill:rgba(0,0,0,.87)}#chart-1b737dbd-ee1c-4d23-87a0-0690a7d5bc2c .tooltip .label{fill:rgba(0,0,0,.87)}#chart-1b737dbd-ee1c-4d23-87a0-0690a7d5bc2c .tooltip .legend{font-size:.8em;fill:rgba(0,0,0,.54)}#chart-1b737dbd-ee1c-4d23-87a0-0690a7d5bc2c .tooltip .x_label{font-size:.6em;fill:rgba(0,0,0,1)}#chart-1b737dbd-ee1c-4d23-87a0-0690a7d5bc2c .tooltip .xlink{font-size:.5em;text-decoration:underline}#chart-1b737dbd-ee1c-4d23-87a0-0690a7d5bc2c .tooltip .value{font-size:1.5em}#chart-1b737dbd-ee1c-4d23-87a0-0690a7d5bc2c .bound{font-size:.5em}#chart-1b737dbd-ee1c-4d23-87a0-0690a7d5bc2c .max-value{font-size:.75em;fill:rgba(0,0,0,.54)}#chart-1b737dbd-ee1c-4d23-87a0-0690a7d5bc2c .map-element{fill:rgba(255,255,255,1);stroke:rgba(0,0,0,.54) !important}#chart-1b737dbd-ee1c-4d23-87a0-0690a7d5bc2c .map-element .reactive{fill-opacity:inherit;stroke-opacity:inherit}#chart-1b737dbd-ee1c-4d23-87a0-0690a7d5bc2c .color-0,#chart-1b737dbd-ee1c-4d23-87a0-0690a7d5bc2c .color-0 a:visited{stroke:#F44336;fill:#F44336}#chart-1b737dbd-ee1c-4d23-87a0-0690a7d5bc2c .color-1,#chart-1b737dbd-ee1c-4d23-87a0-0690a7d5bc2c .color-1 a:visited{stroke:#3F51B5;fill:#3F51B5}#chart-1b737dbd-ee1c-4d23-87a0-0690a7d5bc2c .text-overlay .color-0 text{fill:black}#chart-1b737dbd-ee1c-4d23-87a0-0690a7d5bc2c .text-overlay .color-1 text{fill:black}\n",
       "#chart-1b737dbd-ee1c-4d23-87a0-0690a7d5bc2c text.no_data{text-anchor:middle}#chart-1b737dbd-ee1c-4d23-87a0-0690a7d5bc2c .guide.line{fill:none}#chart-1b737dbd-ee1c-4d23-87a0-0690a7d5bc2c .centered{text-anchor:middle}#chart-1b737dbd-ee1c-4d23-87a0-0690a7d5bc2c .title{text-anchor:middle}#chart-1b737dbd-ee1c-4d23-87a0-0690a7d5bc2c .legends .legend text{fill-opacity:1}#chart-1b737dbd-ee1c-4d23-87a0-0690a7d5bc2c .axis.x text{text-anchor:middle}#chart-1b737dbd-ee1c-4d23-87a0-0690a7d5bc2c .axis.x:not(.web) text[transform]{text-anchor:start}#chart-1b737dbd-ee1c-4d23-87a0-0690a7d5bc2c .axis.x:not(.web) text[transform].backwards{text-anchor:end}#chart-1b737dbd-ee1c-4d23-87a0-0690a7d5bc2c .axis.y text{text-anchor:end}#chart-1b737dbd-ee1c-4d23-87a0-0690a7d5bc2c .axis.y text[transform].backwards{text-anchor:start}#chart-1b737dbd-ee1c-4d23-87a0-0690a7d5bc2c .axis.y2 text{text-anchor:start}#chart-1b737dbd-ee1c-4d23-87a0-0690a7d5bc2c .axis.y2 text[transform].backwards{text-anchor:end}#chart-1b737dbd-ee1c-4d23-87a0-0690a7d5bc2c .axis .guide.line{stroke-dasharray:4,4}#chart-1b737dbd-ee1c-4d23-87a0-0690a7d5bc2c .axis .major.guide.line{stroke-dasharray:6,6}#chart-1b737dbd-ee1c-4d23-87a0-0690a7d5bc2c .horizontal .axis.y .guide.line,#chart-1b737dbd-ee1c-4d23-87a0-0690a7d5bc2c .horizontal .axis.y2 .guide.line,#chart-1b737dbd-ee1c-4d23-87a0-0690a7d5bc2c .vertical .axis.x .guide.line{opacity:0}#chart-1b737dbd-ee1c-4d23-87a0-0690a7d5bc2c .horizontal .axis.always_show .guide.line,#chart-1b737dbd-ee1c-4d23-87a0-0690a7d5bc2c .vertical .axis.always_show .guide.line{opacity:1 !important}#chart-1b737dbd-ee1c-4d23-87a0-0690a7d5bc2c .axis.y .guides:hover .guide.line,#chart-1b737dbd-ee1c-4d23-87a0-0690a7d5bc2c .axis.y2 .guides:hover .guide.line,#chart-1b737dbd-ee1c-4d23-87a0-0690a7d5bc2c .axis.x .guides:hover .guide.line{opacity:1}#chart-1b737dbd-ee1c-4d23-87a0-0690a7d5bc2c .axis .guides:hover text{opacity:1}#chart-1b737dbd-ee1c-4d23-87a0-0690a7d5bc2c .nofill{fill:none}#chart-1b737dbd-ee1c-4d23-87a0-0690a7d5bc2c .subtle-fill{fill-opacity:.2}#chart-1b737dbd-ee1c-4d23-87a0-0690a7d5bc2c .dot{stroke-width:1px;fill-opacity:1}#chart-1b737dbd-ee1c-4d23-87a0-0690a7d5bc2c .dot.active{stroke-width:5px}#chart-1b737dbd-ee1c-4d23-87a0-0690a7d5bc2c .dot.negative{fill:transparent}#chart-1b737dbd-ee1c-4d23-87a0-0690a7d5bc2c text,#chart-1b737dbd-ee1c-4d23-87a0-0690a7d5bc2c tspan{stroke:none !important}#chart-1b737dbd-ee1c-4d23-87a0-0690a7d5bc2c .series text.active{opacity:1}#chart-1b737dbd-ee1c-4d23-87a0-0690a7d5bc2c .tooltip rect{fill-opacity:.95;stroke-width:.5}#chart-1b737dbd-ee1c-4d23-87a0-0690a7d5bc2c .tooltip text{fill-opacity:1}#chart-1b737dbd-ee1c-4d23-87a0-0690a7d5bc2c .showable{visibility:hidden}#chart-1b737dbd-ee1c-4d23-87a0-0690a7d5bc2c .showable.shown{visibility:visible}#chart-1b737dbd-ee1c-4d23-87a0-0690a7d5bc2c .gauge-background{fill:rgba(229,229,229,1);stroke:none}#chart-1b737dbd-ee1c-4d23-87a0-0690a7d5bc2c .bg-lines{stroke:rgba(249,249,249,1);stroke-width:2px}</style><script type=\"text/javascript\">window.pygal = window.pygal || {};window.pygal.config = window.pygal.config || {};window.pygal.config['1b737dbd-ee1c-4d23-87a0-0690a7d5bc2c'] = {&quot;allow_interruptions&quot;: false, &quot;box_mode&quot;: &quot;extremes&quot;, &quot;classes&quot;: [&quot;pygal-chart&quot;], &quot;css&quot;: [&quot;file://style.css&quot;, &quot;file://graph.css&quot;], &quot;defs&quot;: [], &quot;disable_xml_declaration&quot;: false, &quot;dots_size&quot;: 2.5, &quot;dynamic_print_values&quot;: false, &quot;explicit_size&quot;: false, &quot;fill&quot;: false, &quot;force_uri_protocol&quot;: &quot;https&quot;, &quot;formatter&quot;: null, &quot;half_pie&quot;: false, &quot;height&quot;: 600, &quot;include_x_axis&quot;: false, &quot;inner_radius&quot;: 0, &quot;interpolate&quot;: null, &quot;interpolation_parameters&quot;: {}, &quot;interpolation_precision&quot;: 250, &quot;inverse_y_axis&quot;: false, &quot;js&quot;: [&quot;//kozea.github.io/pygal.js/2.0.x/pygal-tooltips.min.js&quot;], &quot;legend_at_bottom&quot;: false, &quot;legend_at_bottom_columns&quot;: null, &quot;legend_box_size&quot;: 12, &quot;logarithmic&quot;: false, &quot;margin&quot;: 20, &quot;margin_bottom&quot;: null, &quot;margin_left&quot;: null, &quot;margin_right&quot;: null, &quot;margin_top&quot;: null, &quot;max_scale&quot;: 16, &quot;min_scale&quot;: 4, &quot;missing_value_fill_truncation&quot;: &quot;x&quot;, &quot;no_data_text&quot;: &quot;No data&quot;, &quot;no_prefix&quot;: false, &quot;order_min&quot;: null, &quot;pretty_print&quot;: false, &quot;print_labels&quot;: false, &quot;print_values&quot;: false, &quot;print_values_position&quot;: &quot;center&quot;, &quot;print_zeroes&quot;: true, &quot;range&quot;: null, &quot;rounded_bars&quot;: null, &quot;secondary_range&quot;: null, &quot;show_dots&quot;: true, &quot;show_legend&quot;: true, &quot;show_minor_x_labels&quot;: true, &quot;show_minor_y_labels&quot;: true, &quot;show_only_major_dots&quot;: false, &quot;show_x_guides&quot;: false, &quot;show_x_labels&quot;: true, &quot;show_y_guides&quot;: true, &quot;show_y_labels&quot;: true, &quot;spacing&quot;: 10, &quot;stack_from_top&quot;: false, &quot;strict&quot;: false, &quot;stroke&quot;: true, &quot;stroke_style&quot;: null, &quot;style&quot;: {&quot;background&quot;: &quot;rgba(249, 249, 249, 1)&quot;, &quot;ci_colors&quot;: [], &quot;colors&quot;: [&quot;#F44336&quot;, &quot;#3F51B5&quot;, &quot;#009688&quot;, &quot;#FFC107&quot;, &quot;#FF5722&quot;, &quot;#9C27B0&quot;, &quot;#03A9F4&quot;, &quot;#8BC34A&quot;, &quot;#FF9800&quot;, &quot;#E91E63&quot;, &quot;#2196F3&quot;, &quot;#4CAF50&quot;, &quot;#FFEB3B&quot;, &quot;#673AB7&quot;, &quot;#00BCD4&quot;, &quot;#CDDC39&quot;, &quot;#9E9E9E&quot;, &quot;#607D8B&quot;], &quot;font_family&quot;: &quot;Consolas, \\&quot;Liberation Mono\\&quot;, Menlo, Courier, monospace&quot;, &quot;foreground&quot;: &quot;rgba(0, 0, 0, .87)&quot;, &quot;foreground_strong&quot;: &quot;rgba(0, 0, 0, 1)&quot;, &quot;foreground_subtle&quot;: &quot;rgba(0, 0, 0, .54)&quot;, &quot;guide_stroke_dasharray&quot;: &quot;4,4&quot;, &quot;label_font_family&quot;: &quot;Consolas, \\&quot;Liberation Mono\\&quot;, Menlo, Courier, monospace&quot;, &quot;label_font_size&quot;: 10, &quot;legend_font_family&quot;: &quot;Consolas, \\&quot;Liberation Mono\\&quot;, Menlo, Courier, monospace&quot;, &quot;legend_font_size&quot;: 14, &quot;major_guide_stroke_dasharray&quot;: &quot;6,6&quot;, &quot;major_label_font_family&quot;: &quot;Consolas, \\&quot;Liberation Mono\\&quot;, Menlo, Courier, monospace&quot;, &quot;major_label_font_size&quot;: 10, &quot;no_data_font_family&quot;: &quot;Consolas, \\&quot;Liberation Mono\\&quot;, Menlo, Courier, monospace&quot;, &quot;no_data_font_size&quot;: 64, &quot;opacity&quot;: &quot;.7&quot;, &quot;opacity_hover&quot;: &quot;.8&quot;, &quot;plot_background&quot;: &quot;rgba(255, 255, 255, 1)&quot;, &quot;stroke_opacity&quot;: &quot;.8&quot;, &quot;stroke_opacity_hover&quot;: &quot;.9&quot;, &quot;title_font_family&quot;: &quot;Consolas, \\&quot;Liberation Mono\\&quot;, Menlo, Courier, monospace&quot;, &quot;title_font_size&quot;: 16, &quot;tooltip_font_family&quot;: &quot;Consolas, \\&quot;Liberation Mono\\&quot;, Menlo, Courier, monospace&quot;, &quot;tooltip_font_size&quot;: 14, &quot;transition&quot;: &quot;150ms&quot;, &quot;value_background&quot;: &quot;rgba(229, 229, 229, 1)&quot;, &quot;value_colors&quot;: [], &quot;value_font_family&quot;: &quot;Consolas, \\&quot;Liberation Mono\\&quot;, Menlo, Courier, monospace&quot;, &quot;value_font_size&quot;: 16, &quot;value_label_font_family&quot;: &quot;Consolas, \\&quot;Liberation Mono\\&quot;, Menlo, Courier, monospace&quot;, &quot;value_label_font_size&quot;: 10}, &quot;title&quot;: &quot;Retweet Original Tweets plot&quot;, &quot;tooltip_border_radius&quot;: 0, &quot;tooltip_fancy_mode&quot;: true, &quot;truncate_label&quot;: null, &quot;truncate_legend&quot;: null, &quot;width&quot;: 800, &quot;x_label_rotation&quot;: 0, &quot;x_labels&quot;: null, &quot;x_labels_major&quot;: null, &quot;x_labels_major_count&quot;: null, &quot;x_labels_major_every&quot;: null, &quot;x_title&quot;: null, &quot;xrange&quot;: null, &quot;y_label_rotation&quot;: 0, &quot;y_labels&quot;: null, &quot;y_labels_major&quot;: null, &quot;y_labels_major_count&quot;: null, &quot;y_labels_major_every&quot;: null, &quot;y_title&quot;: null, &quot;zero&quot;: 0, &quot;legends&quot;: [&quot;Retweet Count&quot;, &quot;Original Tweet&quot;]}</script><script type=\"text/javascript\" xlink:href=\"https://kozea.github.io/pygal.js/2.0.x/pygal-tooltips.min.js\"/></defs><title>Retweet Original Tweets plot</title><g class=\"graph pie-graph vertical\"><rect class=\"background\" height=\"600\" width=\"800\" x=\"0\" y=\"0\"/><g class=\"plot\" transform=\"translate(159, 46)\"><rect class=\"background\" height=\"534\" width=\"620.4\" x=\"0\" y=\"0\"/><g class=\"series serie-0 color-0\"><g class=\"slices\"><g class=\"slice\"><path class=\"slice reactive tooltip-trigger\" d=\"M310.200000 26.700000 A240.300000 240.300000 0 1 1 70.374177 251.911438 L310.200000 267.000000 A0.000000 0.000000 0 1 0 310.200000 267.000000 z\"/><desc class=\"value\">76</desc><desc class=\"x centered\">392.448334777332</desc><desc class=\"y centered\">354.5855805846826</desc></g></g></g><g class=\"series serie-1 color-1\"><g class=\"slices\"><g class=\"slice\"><path class=\"slice reactive tooltip-trigger\" d=\"M70.374177 251.911438 A240.300000 240.300000 0 0 1 310.200000 26.700000 L310.200000 267.000000 A0.000000 0.000000 0 0 0 310.200000 267.000000 z\"/><desc class=\"value\">24</desc><desc class=\"x centered\">227.951665222668</desc><desc class=\"y centered\">179.41441941531744</desc></g></g></g></g><g class=\"titles\"><text class=\"title plot_title\" x=\"400.0\" y=\"26\">Retweet Original Tweets plot</text></g><g class=\"plot overlay\" transform=\"translate(159, 46)\"><g class=\"series serie-0 color-0\"/><g class=\"series serie-1 color-1\"/></g><g class=\"plot text-overlay\" transform=\"translate(159, 46)\"><g class=\"series serie-0 color-0\"/><g class=\"series serie-1 color-1\"/></g><g class=\"plot tooltip-overlay\" transform=\"translate(159, 46)\"><g class=\"tooltip\" style=\"opacity: 0\" transform=\"translate(0 0)\"><rect class=\"tooltip-box\" height=\"0\" rx=\"0\" ry=\"0\" width=\"0\"/><g class=\"text\"/></g></g><g class=\"legends\" transform=\"translate(10, 56)\"><g class=\"legend reactive activate-serie\" id=\"activate-serie-0\"><rect class=\"color-0 reactive\" height=\"12\" width=\"12\" x=\"0.0\" y=\"1.0\"/><text x=\"17.0\" y=\"11.2\">Retweet Count</text></g><g class=\"legend reactive activate-serie\" id=\"activate-serie-1\"><rect class=\"color-1 reactive\" height=\"12\" width=\"12\" x=\"0.0\" y=\"22.0\"/><text x=\"17.0\" y=\"32.2\">Original Tweet</text></g></g><g class=\"legends\" transform=\"translate(790, 56)\"/></g></svg>"
      ],
      "text/plain": [
       "<IPython.core.display.SVG object>"
      ]
     },
     "execution_count": 13,
     "metadata": {},
     "output_type": "execute_result"
    }
   ],
   "source": [
    "retweet_count=0\n",
    "original_tweet=0\n",
    "for text in tweets['text']:\n",
    "    if text.startswith('RT'):\n",
    "        retweet_count=retweet_count+1\n",
    "    else:\n",
    "        original_tweet = original_tweet+1\n",
    "pie_chart = pg.Pie()\n",
    "pie_chart.title = 'Retweet Original Tweets plot'\n",
    "pie_chart.add('Retweet Count', (retweet_count/(retweet_count+original_tweet)*100))\n",
    "pie_chart.add('Original Tweet',(original_tweet/(retweet_count+original_tweet)*100))\n",
    "SVG(pie_chart.render())\n"
   ]
  },
  {
   "cell_type": "code",
   "execution_count": 203,
   "metadata": {
    "collapsed": false
   },
   "outputs": [
    {
     "data": {
      "text/plain": [
       "'<a href=\"https://dlvrit.com/\" rel=\"nofollow\">dlvr.it</a>'"
      ]
     },
     "execution_count": 203,
     "metadata": {},
     "output_type": "execute_result"
    }
   ],
   "source": [
    "tweets['source'][7]"
   ]
  },
  {
   "cell_type": "code",
   "execution_count": 16,
   "metadata": {
    "collapsed": false
   },
   "outputs": [
    {
     "name": "stderr",
     "output_type": "stream",
     "text": [
      "C:\\Users\\dhineshvikram\\Anaconda3\\lib\\site-packages\\ipykernel\\__main__.py:4: SettingWithCopyWarning: \n",
      "A value is trying to be set on a copy of a slice from a DataFrame\n",
      "\n",
      "See the caveats in the documentation: http://pandas.pydata.org/pandas-docs/stable/indexing.html#indexing-view-versus-copy\n"
     ]
    }
   ],
   "source": [
    "import re\n",
    "index=0\n",
    "for source in tweets['source']:\n",
    "    tweets['source'][index] = re.sub('<[^>]*>', '', source)\n",
    "    index=index+1"
   ]
  },
  {
   "cell_type": "code",
   "execution_count": 247,
   "metadata": {
    "collapsed": false
   },
   "outputs": [],
   "source": [
    "twitter_source_freq = tweets['source'].value_counts()"
   ]
  },
  {
   "cell_type": "code",
   "execution_count": 28,
   "metadata": {
    "collapsed": false
   },
   "outputs": [
    {
     "data": {
      "text/plain": [
       "Twitter Web Client     16\n",
       "Twitter for Android    12\n",
       "Twitter for iPhone     12\n",
       "TweetDeck               5\n",
       "Buffer                  2\n",
       "Mobile Web (M5)         1\n",
       "Twitter for iPad        1\n",
       "blooddonor030           1\n",
       "Name: source, dtype: int64"
      ]
     },
     "execution_count": 28,
     "metadata": {},
     "output_type": "execute_result"
    }
   ],
   "source": [
    "tweets['source'].value_counts()"
   ]
  },
  {
   "cell_type": "code",
   "execution_count": 18,
   "metadata": {
    "collapsed": false
   },
   "outputs": [
    {
     "data": {
      "image/svg+xml": [
       "<svg class=\"pygal-chart\" id=\"chart-62c07e8f-27d2-4455-a9b2-014876729cf2\" viewBox=\"0 0 800 600\" xmlns=\"http://www.w3.org/2000/svg\" xmlns:xlink=\"http://www.w3.org/1999/xlink\"><!--Generated with pygal 2.3.1 (lxml) ©Kozea 2012-2016 on 2017-03-11--><!--http://pygal.org--><!--http://github.com/Kozea/pygal--><defs><style type=\"text/css\">#chart-62c07e8f-27d2-4455-a9b2-014876729cf2{-webkit-user-select:none;-webkit-font-smoothing:antialiased;font-family:Consolas,&quot;Liberation Mono&quot;,Menlo,Courier,monospace}#chart-62c07e8f-27d2-4455-a9b2-014876729cf2 .title{font-family:Consolas,&quot;Liberation Mono&quot;,Menlo,Courier,monospace;font-size:16px}#chart-62c07e8f-27d2-4455-a9b2-014876729cf2 .legends .legend text{font-family:Consolas,&quot;Liberation Mono&quot;,Menlo,Courier,monospace;font-size:14px}#chart-62c07e8f-27d2-4455-a9b2-014876729cf2 .axis text{font-family:Consolas,&quot;Liberation Mono&quot;,Menlo,Courier,monospace;font-size:10px}#chart-62c07e8f-27d2-4455-a9b2-014876729cf2 .axis text.major{font-family:Consolas,&quot;Liberation Mono&quot;,Menlo,Courier,monospace;font-size:10px}#chart-62c07e8f-27d2-4455-a9b2-014876729cf2 .text-overlay text.value{font-family:Consolas,&quot;Liberation Mono&quot;,Menlo,Courier,monospace;font-size:16px}#chart-62c07e8f-27d2-4455-a9b2-014876729cf2 .text-overlay text.label{font-family:Consolas,&quot;Liberation Mono&quot;,Menlo,Courier,monospace;font-size:10px}#chart-62c07e8f-27d2-4455-a9b2-014876729cf2 .tooltip{font-family:Consolas,&quot;Liberation Mono&quot;,Menlo,Courier,monospace;font-size:14px}#chart-62c07e8f-27d2-4455-a9b2-014876729cf2 text.no_data{font-family:Consolas,&quot;Liberation Mono&quot;,Menlo,Courier,monospace;font-size:64px}\n",
       "#chart-62c07e8f-27d2-4455-a9b2-014876729cf2{background-color:rgba(249,249,249,1)}#chart-62c07e8f-27d2-4455-a9b2-014876729cf2 path,#chart-62c07e8f-27d2-4455-a9b2-014876729cf2 line,#chart-62c07e8f-27d2-4455-a9b2-014876729cf2 rect,#chart-62c07e8f-27d2-4455-a9b2-014876729cf2 circle{-webkit-transition:150ms;-moz-transition:150ms;transition:150ms}#chart-62c07e8f-27d2-4455-a9b2-014876729cf2 .graph &gt; .background{fill:rgba(249,249,249,1)}#chart-62c07e8f-27d2-4455-a9b2-014876729cf2 .plot &gt; .background{fill:rgba(255,255,255,1)}#chart-62c07e8f-27d2-4455-a9b2-014876729cf2 .graph{fill:rgba(0,0,0,.87)}#chart-62c07e8f-27d2-4455-a9b2-014876729cf2 text.no_data{fill:rgba(0,0,0,1)}#chart-62c07e8f-27d2-4455-a9b2-014876729cf2 .title{fill:rgba(0,0,0,1)}#chart-62c07e8f-27d2-4455-a9b2-014876729cf2 .legends .legend text{fill:rgba(0,0,0,.87)}#chart-62c07e8f-27d2-4455-a9b2-014876729cf2 .legends .legend:hover text{fill:rgba(0,0,0,1)}#chart-62c07e8f-27d2-4455-a9b2-014876729cf2 .axis .line{stroke:rgba(0,0,0,1)}#chart-62c07e8f-27d2-4455-a9b2-014876729cf2 .axis .guide.line{stroke:rgba(0,0,0,.54)}#chart-62c07e8f-27d2-4455-a9b2-014876729cf2 .axis .major.line{stroke:rgba(0,0,0,.87)}#chart-62c07e8f-27d2-4455-a9b2-014876729cf2 .axis text.major{fill:rgba(0,0,0,1)}#chart-62c07e8f-27d2-4455-a9b2-014876729cf2 .axis.y .guides:hover .guide.line,#chart-62c07e8f-27d2-4455-a9b2-014876729cf2 .line-graph .axis.x .guides:hover .guide.line,#chart-62c07e8f-27d2-4455-a9b2-014876729cf2 .stackedline-graph .axis.x .guides:hover .guide.line,#chart-62c07e8f-27d2-4455-a9b2-014876729cf2 .xy-graph .axis.x .guides:hover .guide.line{stroke:rgba(0,0,0,1)}#chart-62c07e8f-27d2-4455-a9b2-014876729cf2 .axis .guides:hover text{fill:rgba(0,0,0,1)}#chart-62c07e8f-27d2-4455-a9b2-014876729cf2 .reactive{fill-opacity:.7;stroke-opacity:.8}#chart-62c07e8f-27d2-4455-a9b2-014876729cf2 .ci{stroke:rgba(0,0,0,.87)}#chart-62c07e8f-27d2-4455-a9b2-014876729cf2 .reactive.active,#chart-62c07e8f-27d2-4455-a9b2-014876729cf2 .active .reactive{fill-opacity:.8;stroke-opacity:.9;stroke-width:4}#chart-62c07e8f-27d2-4455-a9b2-014876729cf2 .ci .reactive.active{stroke-width:1.5}#chart-62c07e8f-27d2-4455-a9b2-014876729cf2 .series text{fill:rgba(0,0,0,1)}#chart-62c07e8f-27d2-4455-a9b2-014876729cf2 .tooltip rect{fill:rgba(255,255,255,1);stroke:rgba(0,0,0,1);-webkit-transition:opacity 150ms;-moz-transition:opacity 150ms;transition:opacity 150ms}#chart-62c07e8f-27d2-4455-a9b2-014876729cf2 .tooltip .label{fill:rgba(0,0,0,.87)}#chart-62c07e8f-27d2-4455-a9b2-014876729cf2 .tooltip .label{fill:rgba(0,0,0,.87)}#chart-62c07e8f-27d2-4455-a9b2-014876729cf2 .tooltip .legend{font-size:.8em;fill:rgba(0,0,0,.54)}#chart-62c07e8f-27d2-4455-a9b2-014876729cf2 .tooltip .x_label{font-size:.6em;fill:rgba(0,0,0,1)}#chart-62c07e8f-27d2-4455-a9b2-014876729cf2 .tooltip .xlink{font-size:.5em;text-decoration:underline}#chart-62c07e8f-27d2-4455-a9b2-014876729cf2 .tooltip .value{font-size:1.5em}#chart-62c07e8f-27d2-4455-a9b2-014876729cf2 .bound{font-size:.5em}#chart-62c07e8f-27d2-4455-a9b2-014876729cf2 .max-value{font-size:.75em;fill:rgba(0,0,0,.54)}#chart-62c07e8f-27d2-4455-a9b2-014876729cf2 .map-element{fill:rgba(255,255,255,1);stroke:rgba(0,0,0,.54) !important}#chart-62c07e8f-27d2-4455-a9b2-014876729cf2 .map-element .reactive{fill-opacity:inherit;stroke-opacity:inherit}#chart-62c07e8f-27d2-4455-a9b2-014876729cf2 .color-0,#chart-62c07e8f-27d2-4455-a9b2-014876729cf2 .color-0 a:visited{stroke:#F44336;fill:#F44336}#chart-62c07e8f-27d2-4455-a9b2-014876729cf2 .text-overlay .color-0 text{fill:black}\n",
       "#chart-62c07e8f-27d2-4455-a9b2-014876729cf2 text.no_data{text-anchor:middle}#chart-62c07e8f-27d2-4455-a9b2-014876729cf2 .guide.line{fill:none}#chart-62c07e8f-27d2-4455-a9b2-014876729cf2 .centered{text-anchor:middle}#chart-62c07e8f-27d2-4455-a9b2-014876729cf2 .title{text-anchor:middle}#chart-62c07e8f-27d2-4455-a9b2-014876729cf2 .legends .legend text{fill-opacity:1}#chart-62c07e8f-27d2-4455-a9b2-014876729cf2 .axis.x text{text-anchor:middle}#chart-62c07e8f-27d2-4455-a9b2-014876729cf2 .axis.x:not(.web) text[transform]{text-anchor:start}#chart-62c07e8f-27d2-4455-a9b2-014876729cf2 .axis.x:not(.web) text[transform].backwards{text-anchor:end}#chart-62c07e8f-27d2-4455-a9b2-014876729cf2 .axis.y text{text-anchor:end}#chart-62c07e8f-27d2-4455-a9b2-014876729cf2 .axis.y text[transform].backwards{text-anchor:start}#chart-62c07e8f-27d2-4455-a9b2-014876729cf2 .axis.y2 text{text-anchor:start}#chart-62c07e8f-27d2-4455-a9b2-014876729cf2 .axis.y2 text[transform].backwards{text-anchor:end}#chart-62c07e8f-27d2-4455-a9b2-014876729cf2 .axis .guide.line{stroke-dasharray:4,4}#chart-62c07e8f-27d2-4455-a9b2-014876729cf2 .axis .major.guide.line{stroke-dasharray:6,6}#chart-62c07e8f-27d2-4455-a9b2-014876729cf2 .horizontal .axis.y .guide.line,#chart-62c07e8f-27d2-4455-a9b2-014876729cf2 .horizontal .axis.y2 .guide.line,#chart-62c07e8f-27d2-4455-a9b2-014876729cf2 .vertical .axis.x .guide.line{opacity:0}#chart-62c07e8f-27d2-4455-a9b2-014876729cf2 .horizontal .axis.always_show .guide.line,#chart-62c07e8f-27d2-4455-a9b2-014876729cf2 .vertical .axis.always_show .guide.line{opacity:1 !important}#chart-62c07e8f-27d2-4455-a9b2-014876729cf2 .axis.y .guides:hover .guide.line,#chart-62c07e8f-27d2-4455-a9b2-014876729cf2 .axis.y2 .guides:hover .guide.line,#chart-62c07e8f-27d2-4455-a9b2-014876729cf2 .axis.x .guides:hover .guide.line{opacity:1}#chart-62c07e8f-27d2-4455-a9b2-014876729cf2 .axis .guides:hover text{opacity:1}#chart-62c07e8f-27d2-4455-a9b2-014876729cf2 .nofill{fill:none}#chart-62c07e8f-27d2-4455-a9b2-014876729cf2 .subtle-fill{fill-opacity:.2}#chart-62c07e8f-27d2-4455-a9b2-014876729cf2 .dot{stroke-width:1px;fill-opacity:1}#chart-62c07e8f-27d2-4455-a9b2-014876729cf2 .dot.active{stroke-width:5px}#chart-62c07e8f-27d2-4455-a9b2-014876729cf2 .dot.negative{fill:transparent}#chart-62c07e8f-27d2-4455-a9b2-014876729cf2 text,#chart-62c07e8f-27d2-4455-a9b2-014876729cf2 tspan{stroke:none !important}#chart-62c07e8f-27d2-4455-a9b2-014876729cf2 .series text.active{opacity:1}#chart-62c07e8f-27d2-4455-a9b2-014876729cf2 .tooltip rect{fill-opacity:.95;stroke-width:.5}#chart-62c07e8f-27d2-4455-a9b2-014876729cf2 .tooltip text{fill-opacity:1}#chart-62c07e8f-27d2-4455-a9b2-014876729cf2 .showable{visibility:hidden}#chart-62c07e8f-27d2-4455-a9b2-014876729cf2 .showable.shown{visibility:visible}#chart-62c07e8f-27d2-4455-a9b2-014876729cf2 .gauge-background{fill:rgba(229,229,229,1);stroke:none}#chart-62c07e8f-27d2-4455-a9b2-014876729cf2 .bg-lines{stroke:rgba(249,249,249,1);stroke-width:2px}</style><script type=\"text/javascript\">window.pygal = window.pygal || {};window.pygal.config = window.pygal.config || {};window.pygal.config['62c07e8f-27d2-4455-a9b2-014876729cf2'] = {&quot;allow_interruptions&quot;: false, &quot;box_mode&quot;: &quot;extremes&quot;, &quot;classes&quot;: [&quot;pygal-chart&quot;], &quot;css&quot;: [&quot;file://style.css&quot;, &quot;file://graph.css&quot;], &quot;defs&quot;: [], &quot;disable_xml_declaration&quot;: false, &quot;dots_size&quot;: 2.5, &quot;dynamic_print_values&quot;: false, &quot;explicit_size&quot;: false, &quot;fill&quot;: false, &quot;force_uri_protocol&quot;: &quot;https&quot;, &quot;formatter&quot;: null, &quot;half_pie&quot;: false, &quot;height&quot;: 600, &quot;include_x_axis&quot;: false, &quot;inner_radius&quot;: 0, &quot;interpolate&quot;: null, &quot;interpolation_parameters&quot;: {}, &quot;interpolation_precision&quot;: 250, &quot;inverse_y_axis&quot;: false, &quot;js&quot;: [&quot;//kozea.github.io/pygal.js/2.0.x/pygal-tooltips.min.js&quot;], &quot;legend_at_bottom&quot;: false, &quot;legend_at_bottom_columns&quot;: null, &quot;legend_box_size&quot;: 12, &quot;logarithmic&quot;: false, &quot;margin&quot;: 20, &quot;margin_bottom&quot;: null, &quot;margin_left&quot;: null, &quot;margin_right&quot;: null, &quot;margin_top&quot;: null, &quot;max_scale&quot;: 16, &quot;min_scale&quot;: 4, &quot;missing_value_fill_truncation&quot;: &quot;x&quot;, &quot;no_data_text&quot;: &quot;No data&quot;, &quot;no_prefix&quot;: false, &quot;order_min&quot;: null, &quot;pretty_print&quot;: false, &quot;print_labels&quot;: false, &quot;print_values&quot;: false, &quot;print_values_position&quot;: &quot;center&quot;, &quot;print_zeroes&quot;: true, &quot;range&quot;: null, &quot;rounded_bars&quot;: null, &quot;secondary_range&quot;: null, &quot;show_dots&quot;: true, &quot;show_legend&quot;: true, &quot;show_minor_x_labels&quot;: true, &quot;show_minor_y_labels&quot;: true, &quot;show_only_major_dots&quot;: false, &quot;show_x_guides&quot;: false, &quot;show_x_labels&quot;: true, &quot;show_y_guides&quot;: true, &quot;show_y_labels&quot;: true, &quot;spacing&quot;: 10, &quot;stack_from_top&quot;: false, &quot;strict&quot;: false, &quot;stroke&quot;: true, &quot;stroke_style&quot;: null, &quot;style&quot;: {&quot;background&quot;: &quot;rgba(249, 249, 249, 1)&quot;, &quot;ci_colors&quot;: [], &quot;colors&quot;: [&quot;#F44336&quot;, &quot;#3F51B5&quot;, &quot;#009688&quot;, &quot;#FFC107&quot;, &quot;#FF5722&quot;, &quot;#9C27B0&quot;, &quot;#03A9F4&quot;, &quot;#8BC34A&quot;, &quot;#FF9800&quot;, &quot;#E91E63&quot;, &quot;#2196F3&quot;, &quot;#4CAF50&quot;, &quot;#FFEB3B&quot;, &quot;#673AB7&quot;, &quot;#00BCD4&quot;, &quot;#CDDC39&quot;, &quot;#9E9E9E&quot;, &quot;#607D8B&quot;], &quot;font_family&quot;: &quot;Consolas, \\&quot;Liberation Mono\\&quot;, Menlo, Courier, monospace&quot;, &quot;foreground&quot;: &quot;rgba(0, 0, 0, .87)&quot;, &quot;foreground_strong&quot;: &quot;rgba(0, 0, 0, 1)&quot;, &quot;foreground_subtle&quot;: &quot;rgba(0, 0, 0, .54)&quot;, &quot;guide_stroke_dasharray&quot;: &quot;4,4&quot;, &quot;label_font_family&quot;: &quot;Consolas, \\&quot;Liberation Mono\\&quot;, Menlo, Courier, monospace&quot;, &quot;label_font_size&quot;: 10, &quot;legend_font_family&quot;: &quot;Consolas, \\&quot;Liberation Mono\\&quot;, Menlo, Courier, monospace&quot;, &quot;legend_font_size&quot;: 14, &quot;major_guide_stroke_dasharray&quot;: &quot;6,6&quot;, &quot;major_label_font_family&quot;: &quot;Consolas, \\&quot;Liberation Mono\\&quot;, Menlo, Courier, monospace&quot;, &quot;major_label_font_size&quot;: 10, &quot;no_data_font_family&quot;: &quot;Consolas, \\&quot;Liberation Mono\\&quot;, Menlo, Courier, monospace&quot;, &quot;no_data_font_size&quot;: 64, &quot;opacity&quot;: &quot;.7&quot;, &quot;opacity_hover&quot;: &quot;.8&quot;, &quot;plot_background&quot;: &quot;rgba(255, 255, 255, 1)&quot;, &quot;stroke_opacity&quot;: &quot;.8&quot;, &quot;stroke_opacity_hover&quot;: &quot;.9&quot;, &quot;title_font_family&quot;: &quot;Consolas, \\&quot;Liberation Mono\\&quot;, Menlo, Courier, monospace&quot;, &quot;title_font_size&quot;: 16, &quot;tooltip_font_family&quot;: &quot;Consolas, \\&quot;Liberation Mono\\&quot;, Menlo, Courier, monospace&quot;, &quot;tooltip_font_size&quot;: 14, &quot;transition&quot;: &quot;150ms&quot;, &quot;value_background&quot;: &quot;rgba(229, 229, 229, 1)&quot;, &quot;value_colors&quot;: [], &quot;value_font_family&quot;: &quot;Consolas, \\&quot;Liberation Mono\\&quot;, Menlo, Courier, monospace&quot;, &quot;value_font_size&quot;: 16, &quot;value_label_font_family&quot;: &quot;Consolas, \\&quot;Liberation Mono\\&quot;, Menlo, Courier, monospace&quot;, &quot;value_label_font_size&quot;: 10}, &quot;title&quot;: &quot;Source of Tweets&quot;, &quot;tooltip_border_radius&quot;: 0, &quot;tooltip_fancy_mode&quot;: true, &quot;truncate_label&quot;: null, &quot;truncate_legend&quot;: null, &quot;width&quot;: 800, &quot;x_label_rotation&quot;: 0, &quot;x_labels&quot;: null, &quot;x_labels_major&quot;: null, &quot;x_labels_major_count&quot;: null, &quot;x_labels_major_every&quot;: null, &quot;x_title&quot;: null, &quot;xrange&quot;: null, &quot;y_label_rotation&quot;: 0, &quot;y_labels&quot;: null, &quot;y_labels_major&quot;: null, &quot;y_labels_major_count&quot;: null, &quot;y_labels_major_every&quot;: null, &quot;y_title&quot;: null, &quot;zero&quot;: 0, &quot;legends&quot;: [&quot;Source&quot;]}</script><script type=\"text/javascript\" xlink:href=\"https://kozea.github.io/pygal.js/2.0.x/pygal-tooltips.min.js\"/></defs><title>Source of Tweets</title><g class=\"graph horizontalbar-graph horizontal\"><rect class=\"background\" height=\"600\" width=\"800\" x=\"0\" y=\"0\"/><g class=\"plot\" transform=\"translate(92, 46)\"><rect class=\"background\" height=\"514\" width=\"687.6\" x=\"0\" y=\"0\"/><g class=\"axis x\"><g class=\"guides\"><path class=\"axis major line\" d=\"M13.223077 0.000000 v514.000000\"/><text class=\"major\" x=\"13.2230769231\" y=\"529.0\">0</text></g><g class=\"guides\"><path class=\"guide line\" d=\"M54.545192 0.000000 v514.000000\"/><text class=\"\" x=\"54.5451923077\" y=\"529.0\">1</text></g><g class=\"guides\"><path class=\"guide line\" d=\"M95.867308 0.000000 v514.000000\"/><text class=\"\" x=\"95.8673076923\" y=\"529.0\">2</text></g><g class=\"guides\"><path class=\"guide line\" d=\"M137.189423 0.000000 v514.000000\"/><text class=\"\" x=\"137.189423077\" y=\"529.0\">3</text></g><g class=\"guides\"><path class=\"guide line\" d=\"M178.511538 0.000000 v514.000000\"/><text class=\"\" x=\"178.511538462\" y=\"529.0\">4</text></g><g class=\"guides\"><path class=\"major guide line\" d=\"M219.833654 0.000000 v514.000000\"/><text class=\"major\" x=\"219.833653846\" y=\"529.0\">5</text></g><g class=\"guides\"><path class=\"guide line\" d=\"M261.155769 0.000000 v514.000000\"/><text class=\"\" x=\"261.155769231\" y=\"529.0\">6</text></g><g class=\"guides\"><path class=\"guide line\" d=\"M302.477885 0.000000 v514.000000\"/><text class=\"\" x=\"302.477884615\" y=\"529.0\">7</text></g><g class=\"guides\"><path class=\"guide line\" d=\"M343.800000 0.000000 v514.000000\"/><text class=\"\" x=\"343.8\" y=\"529.0\">8</text></g><g class=\"guides\"><path class=\"guide line\" d=\"M385.122115 0.000000 v514.000000\"/><text class=\"\" x=\"385.122115385\" y=\"529.0\">9</text></g><g class=\"guides\"><path class=\"major guide line\" d=\"M426.444231 0.000000 v514.000000\"/><text class=\"major\" x=\"426.444230769\" y=\"529.0\">10</text></g><g class=\"guides\"><path class=\"guide line\" d=\"M467.766346 0.000000 v514.000000\"/><text class=\"\" x=\"467.766346154\" y=\"529.0\">11</text></g><g class=\"guides\"><path class=\"guide line\" d=\"M509.088462 0.000000 v514.000000\"/><text class=\"\" x=\"509.088461538\" y=\"529.0\">12</text></g><g class=\"guides\"><path class=\"guide line\" d=\"M550.410577 0.000000 v514.000000\"/><text class=\"\" x=\"550.410576923\" y=\"529.0\">13</text></g><g class=\"guides\"><path class=\"guide line\" d=\"M591.732692 0.000000 v514.000000\"/><text class=\"\" x=\"591.732692308\" y=\"529.0\">14</text></g><g class=\"guides\"><path class=\"major guide line\" d=\"M633.054808 0.000000 v514.000000\"/><text class=\"major\" x=\"633.054807692\" y=\"529.0\">15</text></g><g class=\"guides\"><path class=\"guide line\" d=\"M674.376923 0.000000 v514.000000\"/><text class=\"\" x=\"674.376923077\" y=\"529.0\">16</text></g></g><g class=\"series serie-0 color-0\"><g class=\"bars\"><g class=\"bar\"><rect class=\"rect reactive tooltip-trigger\" height=\"47.84153846153846\" rx=\"0\" ry=\"0\" width=\"661.153846154\" x=\"13.2230769231\" y=\"449.3051923076923\"/><desc class=\"value\">16</desc><desc class=\"x centered\">343.8</desc><desc class=\"y centered\">473.22596153846155</desc></g><g class=\"bar\"><rect class=\"rect reactive tooltip-trigger\" height=\"47.84153846153846\" rx=\"0\" ry=\"0\" width=\"495.865384615\" x=\"13.2230769231\" y=\"387.52634615384613\"/><desc class=\"value\">12</desc><desc class=\"x centered\">261.155769231</desc><desc class=\"y centered\">411.44711538461536</desc></g><g class=\"bar\"><rect class=\"rect reactive tooltip-trigger\" height=\"47.84153846153846\" rx=\"0\" ry=\"0\" width=\"495.865384615\" x=\"13.2230769231\" y=\"325.7475\"/><desc class=\"value\">12</desc><desc class=\"x centered\">261.155769231</desc><desc class=\"y centered\">349.6682692307692</desc></g><g class=\"bar\"><rect class=\"rect reactive tooltip-trigger\" height=\"47.84153846153846\" rx=\"0\" ry=\"0\" width=\"206.610576923\" x=\"13.2230769231\" y=\"263.96865384615387\"/><desc class=\"value\">5</desc><desc class=\"x centered\">116.528365385</desc><desc class=\"y centered\">287.8894230769231</desc></g><g class=\"bar\"><rect class=\"rect reactive tooltip-trigger\" height=\"47.84153846153846\" rx=\"0\" ry=\"0\" width=\"82.6442307692\" x=\"13.2230769231\" y=\"202.18980769230768\"/><desc class=\"value\">2</desc><desc class=\"x centered\">54.5451923077</desc><desc class=\"y centered\">226.11057692307693</desc></g><g class=\"bar\"><rect class=\"rect reactive tooltip-trigger\" height=\"47.84153846153846\" rx=\"0\" ry=\"0\" width=\"41.3221153846\" x=\"13.2230769231\" y=\"140.4109615384615\"/><desc class=\"value\">1</desc><desc class=\"x centered\">33.8841346154</desc><desc class=\"y centered\">164.33173076923075</desc></g><g class=\"bar\"><rect class=\"rect reactive tooltip-trigger\" height=\"47.84153846153846\" rx=\"0\" ry=\"0\" width=\"41.3221153846\" x=\"13.2230769231\" y=\"78.63211538461536\"/><desc class=\"value\">1</desc><desc class=\"x centered\">33.8841346154</desc><desc class=\"y centered\">102.55288461538458</desc></g><g class=\"bar\"><rect class=\"rect reactive tooltip-trigger\" height=\"47.84153846153846\" rx=\"0\" ry=\"0\" width=\"41.3221153846\" x=\"13.2230769231\" y=\"16.85326923076923\"/><desc class=\"value\">1</desc><desc class=\"x centered\">33.8841346154</desc><desc class=\"y centered\">40.77403846153846</desc></g></g></g></g><g class=\"titles\"><text class=\"title plot_title\" x=\"400.0\" y=\"26\">Source of Tweets</text></g><g class=\"plot overlay\" transform=\"translate(92, 46)\"><g class=\"series serie-0 color-0\"/></g><g class=\"plot text-overlay\" transform=\"translate(92, 46)\"><g class=\"series serie-0 color-0\"/></g><g class=\"plot tooltip-overlay\" transform=\"translate(92, 46)\"><g class=\"tooltip\" style=\"opacity: 0\" transform=\"translate(0 0)\"><rect class=\"tooltip-box\" height=\"0\" rx=\"0\" ry=\"0\" width=\"0\"/><g class=\"text\"/></g></g><g class=\"legends\" transform=\"translate(10, 56)\"><g class=\"legend reactive activate-serie\" id=\"activate-serie-0\"><rect class=\"color-0 reactive\" height=\"12\" width=\"12\" x=\"0.0\" y=\"1.0\"/><text x=\"17.0\" y=\"11.2\">Source</text></g></g><g class=\"legends\" transform=\"translate(790, 56)\"/></g></svg>"
      ],
      "text/plain": [
       "<IPython.core.display.SVG object>"
      ]
     },
     "execution_count": 18,
     "metadata": {},
     "output_type": "execute_result"
    }
   ],
   "source": [
    "line_chart = pg.HorizontalBar()\n",
    "line_chart.title = 'Source of Tweets'\n",
    "line_chart.add('Source',tweets['source'].value_counts())\n",
    "\n",
    "SVG(line_chart.render())"
   ]
  },
  {
   "cell_type": "code",
   "execution_count": 19,
   "metadata": {
    "collapsed": false
   },
   "outputs": [
    {
     "data": {
      "image/svg+xml": [
       "<svg class=\"pygal-chart\" id=\"chart-7cbf13da-ad4d-4de1-9f09-83c43fb10985\" viewBox=\"0 0 800 600\" xmlns=\"http://www.w3.org/2000/svg\" xmlns:xlink=\"http://www.w3.org/1999/xlink\"><!--Generated with pygal 2.3.1 (lxml) ©Kozea 2012-2016 on 2017-03-11--><!--http://pygal.org--><!--http://github.com/Kozea/pygal--><defs><style type=\"text/css\">#chart-7cbf13da-ad4d-4de1-9f09-83c43fb10985{-webkit-user-select:none;-webkit-font-smoothing:antialiased;font-family:Consolas,&quot;Liberation Mono&quot;,Menlo,Courier,monospace}#chart-7cbf13da-ad4d-4de1-9f09-83c43fb10985 .title{font-family:Consolas,&quot;Liberation Mono&quot;,Menlo,Courier,monospace;font-size:16px}#chart-7cbf13da-ad4d-4de1-9f09-83c43fb10985 .legends .legend text{font-family:Consolas,&quot;Liberation Mono&quot;,Menlo,Courier,monospace;font-size:14px}#chart-7cbf13da-ad4d-4de1-9f09-83c43fb10985 .axis text{font-family:Consolas,&quot;Liberation Mono&quot;,Menlo,Courier,monospace;font-size:10px}#chart-7cbf13da-ad4d-4de1-9f09-83c43fb10985 .axis text.major{font-family:Consolas,&quot;Liberation Mono&quot;,Menlo,Courier,monospace;font-size:10px}#chart-7cbf13da-ad4d-4de1-9f09-83c43fb10985 .text-overlay text.value{font-family:Consolas,&quot;Liberation Mono&quot;,Menlo,Courier,monospace;font-size:16px}#chart-7cbf13da-ad4d-4de1-9f09-83c43fb10985 .text-overlay text.label{font-family:Consolas,&quot;Liberation Mono&quot;,Menlo,Courier,monospace;font-size:10px}#chart-7cbf13da-ad4d-4de1-9f09-83c43fb10985 .tooltip{font-family:Consolas,&quot;Liberation Mono&quot;,Menlo,Courier,monospace;font-size:14px}#chart-7cbf13da-ad4d-4de1-9f09-83c43fb10985 text.no_data{font-family:Consolas,&quot;Liberation Mono&quot;,Menlo,Courier,monospace;font-size:64px}\n",
       "#chart-7cbf13da-ad4d-4de1-9f09-83c43fb10985{background-color:rgba(249,249,249,1)}#chart-7cbf13da-ad4d-4de1-9f09-83c43fb10985 path,#chart-7cbf13da-ad4d-4de1-9f09-83c43fb10985 line,#chart-7cbf13da-ad4d-4de1-9f09-83c43fb10985 rect,#chart-7cbf13da-ad4d-4de1-9f09-83c43fb10985 circle{-webkit-transition:150ms;-moz-transition:150ms;transition:150ms}#chart-7cbf13da-ad4d-4de1-9f09-83c43fb10985 .graph &gt; .background{fill:rgba(249,249,249,1)}#chart-7cbf13da-ad4d-4de1-9f09-83c43fb10985 .plot &gt; .background{fill:rgba(255,255,255,1)}#chart-7cbf13da-ad4d-4de1-9f09-83c43fb10985 .graph{fill:rgba(0,0,0,.87)}#chart-7cbf13da-ad4d-4de1-9f09-83c43fb10985 text.no_data{fill:rgba(0,0,0,1)}#chart-7cbf13da-ad4d-4de1-9f09-83c43fb10985 .title{fill:rgba(0,0,0,1)}#chart-7cbf13da-ad4d-4de1-9f09-83c43fb10985 .legends .legend text{fill:rgba(0,0,0,.87)}#chart-7cbf13da-ad4d-4de1-9f09-83c43fb10985 .legends .legend:hover text{fill:rgba(0,0,0,1)}#chart-7cbf13da-ad4d-4de1-9f09-83c43fb10985 .axis .line{stroke:rgba(0,0,0,1)}#chart-7cbf13da-ad4d-4de1-9f09-83c43fb10985 .axis .guide.line{stroke:rgba(0,0,0,.54)}#chart-7cbf13da-ad4d-4de1-9f09-83c43fb10985 .axis .major.line{stroke:rgba(0,0,0,.87)}#chart-7cbf13da-ad4d-4de1-9f09-83c43fb10985 .axis text.major{fill:rgba(0,0,0,1)}#chart-7cbf13da-ad4d-4de1-9f09-83c43fb10985 .axis.y .guides:hover .guide.line,#chart-7cbf13da-ad4d-4de1-9f09-83c43fb10985 .line-graph .axis.x .guides:hover .guide.line,#chart-7cbf13da-ad4d-4de1-9f09-83c43fb10985 .stackedline-graph .axis.x .guides:hover .guide.line,#chart-7cbf13da-ad4d-4de1-9f09-83c43fb10985 .xy-graph .axis.x .guides:hover .guide.line{stroke:rgba(0,0,0,1)}#chart-7cbf13da-ad4d-4de1-9f09-83c43fb10985 .axis .guides:hover text{fill:rgba(0,0,0,1)}#chart-7cbf13da-ad4d-4de1-9f09-83c43fb10985 .reactive{fill-opacity:.7;stroke-opacity:.8}#chart-7cbf13da-ad4d-4de1-9f09-83c43fb10985 .ci{stroke:rgba(0,0,0,.87)}#chart-7cbf13da-ad4d-4de1-9f09-83c43fb10985 .reactive.active,#chart-7cbf13da-ad4d-4de1-9f09-83c43fb10985 .active .reactive{fill-opacity:.8;stroke-opacity:.9;stroke-width:4}#chart-7cbf13da-ad4d-4de1-9f09-83c43fb10985 .ci .reactive.active{stroke-width:1.5}#chart-7cbf13da-ad4d-4de1-9f09-83c43fb10985 .series text{fill:rgba(0,0,0,1)}#chart-7cbf13da-ad4d-4de1-9f09-83c43fb10985 .tooltip rect{fill:rgba(255,255,255,1);stroke:rgba(0,0,0,1);-webkit-transition:opacity 150ms;-moz-transition:opacity 150ms;transition:opacity 150ms}#chart-7cbf13da-ad4d-4de1-9f09-83c43fb10985 .tooltip .label{fill:rgba(0,0,0,.87)}#chart-7cbf13da-ad4d-4de1-9f09-83c43fb10985 .tooltip .label{fill:rgba(0,0,0,.87)}#chart-7cbf13da-ad4d-4de1-9f09-83c43fb10985 .tooltip .legend{font-size:.8em;fill:rgba(0,0,0,.54)}#chart-7cbf13da-ad4d-4de1-9f09-83c43fb10985 .tooltip .x_label{font-size:.6em;fill:rgba(0,0,0,1)}#chart-7cbf13da-ad4d-4de1-9f09-83c43fb10985 .tooltip .xlink{font-size:.5em;text-decoration:underline}#chart-7cbf13da-ad4d-4de1-9f09-83c43fb10985 .tooltip .value{font-size:1.5em}#chart-7cbf13da-ad4d-4de1-9f09-83c43fb10985 .bound{font-size:.5em}#chart-7cbf13da-ad4d-4de1-9f09-83c43fb10985 .max-value{font-size:.75em;fill:rgba(0,0,0,.54)}#chart-7cbf13da-ad4d-4de1-9f09-83c43fb10985 .map-element{fill:rgba(255,255,255,1);stroke:rgba(0,0,0,.54) !important}#chart-7cbf13da-ad4d-4de1-9f09-83c43fb10985 .map-element .reactive{fill-opacity:inherit;stroke-opacity:inherit}#chart-7cbf13da-ad4d-4de1-9f09-83c43fb10985 .color-0,#chart-7cbf13da-ad4d-4de1-9f09-83c43fb10985 .color-0 a:visited{stroke:#F44336;fill:#F44336}#chart-7cbf13da-ad4d-4de1-9f09-83c43fb10985 .color-1,#chart-7cbf13da-ad4d-4de1-9f09-83c43fb10985 .color-1 a:visited{stroke:#3F51B5;fill:#3F51B5}#chart-7cbf13da-ad4d-4de1-9f09-83c43fb10985 .text-overlay .color-0 text{fill:black}#chart-7cbf13da-ad4d-4de1-9f09-83c43fb10985 .text-overlay .color-1 text{fill:black}\n",
       "#chart-7cbf13da-ad4d-4de1-9f09-83c43fb10985 text.no_data{text-anchor:middle}#chart-7cbf13da-ad4d-4de1-9f09-83c43fb10985 .guide.line{fill:none}#chart-7cbf13da-ad4d-4de1-9f09-83c43fb10985 .centered{text-anchor:middle}#chart-7cbf13da-ad4d-4de1-9f09-83c43fb10985 .title{text-anchor:middle}#chart-7cbf13da-ad4d-4de1-9f09-83c43fb10985 .legends .legend text{fill-opacity:1}#chart-7cbf13da-ad4d-4de1-9f09-83c43fb10985 .axis.x text{text-anchor:middle}#chart-7cbf13da-ad4d-4de1-9f09-83c43fb10985 .axis.x:not(.web) text[transform]{text-anchor:start}#chart-7cbf13da-ad4d-4de1-9f09-83c43fb10985 .axis.x:not(.web) text[transform].backwards{text-anchor:end}#chart-7cbf13da-ad4d-4de1-9f09-83c43fb10985 .axis.y text{text-anchor:end}#chart-7cbf13da-ad4d-4de1-9f09-83c43fb10985 .axis.y text[transform].backwards{text-anchor:start}#chart-7cbf13da-ad4d-4de1-9f09-83c43fb10985 .axis.y2 text{text-anchor:start}#chart-7cbf13da-ad4d-4de1-9f09-83c43fb10985 .axis.y2 text[transform].backwards{text-anchor:end}#chart-7cbf13da-ad4d-4de1-9f09-83c43fb10985 .axis .guide.line{stroke-dasharray:4,4}#chart-7cbf13da-ad4d-4de1-9f09-83c43fb10985 .axis .major.guide.line{stroke-dasharray:6,6}#chart-7cbf13da-ad4d-4de1-9f09-83c43fb10985 .horizontal .axis.y .guide.line,#chart-7cbf13da-ad4d-4de1-9f09-83c43fb10985 .horizontal .axis.y2 .guide.line,#chart-7cbf13da-ad4d-4de1-9f09-83c43fb10985 .vertical .axis.x .guide.line{opacity:0}#chart-7cbf13da-ad4d-4de1-9f09-83c43fb10985 .horizontal .axis.always_show .guide.line,#chart-7cbf13da-ad4d-4de1-9f09-83c43fb10985 .vertical .axis.always_show .guide.line{opacity:1 !important}#chart-7cbf13da-ad4d-4de1-9f09-83c43fb10985 .axis.y .guides:hover .guide.line,#chart-7cbf13da-ad4d-4de1-9f09-83c43fb10985 .axis.y2 .guides:hover .guide.line,#chart-7cbf13da-ad4d-4de1-9f09-83c43fb10985 .axis.x .guides:hover .guide.line{opacity:1}#chart-7cbf13da-ad4d-4de1-9f09-83c43fb10985 .axis .guides:hover text{opacity:1}#chart-7cbf13da-ad4d-4de1-9f09-83c43fb10985 .nofill{fill:none}#chart-7cbf13da-ad4d-4de1-9f09-83c43fb10985 .subtle-fill{fill-opacity:.2}#chart-7cbf13da-ad4d-4de1-9f09-83c43fb10985 .dot{stroke-width:1px;fill-opacity:1}#chart-7cbf13da-ad4d-4de1-9f09-83c43fb10985 .dot.active{stroke-width:5px}#chart-7cbf13da-ad4d-4de1-9f09-83c43fb10985 .dot.negative{fill:transparent}#chart-7cbf13da-ad4d-4de1-9f09-83c43fb10985 text,#chart-7cbf13da-ad4d-4de1-9f09-83c43fb10985 tspan{stroke:none !important}#chart-7cbf13da-ad4d-4de1-9f09-83c43fb10985 .series text.active{opacity:1}#chart-7cbf13da-ad4d-4de1-9f09-83c43fb10985 .tooltip rect{fill-opacity:.95;stroke-width:.5}#chart-7cbf13da-ad4d-4de1-9f09-83c43fb10985 .tooltip text{fill-opacity:1}#chart-7cbf13da-ad4d-4de1-9f09-83c43fb10985 .showable{visibility:hidden}#chart-7cbf13da-ad4d-4de1-9f09-83c43fb10985 .showable.shown{visibility:visible}#chart-7cbf13da-ad4d-4de1-9f09-83c43fb10985 .gauge-background{fill:rgba(229,229,229,1);stroke:none}#chart-7cbf13da-ad4d-4de1-9f09-83c43fb10985 .bg-lines{stroke:rgba(249,249,249,1);stroke-width:2px}</style><script type=\"text/javascript\">window.pygal = window.pygal || {};window.pygal.config = window.pygal.config || {};window.pygal.config['7cbf13da-ad4d-4de1-9f09-83c43fb10985'] = {&quot;allow_interruptions&quot;: false, &quot;box_mode&quot;: &quot;extremes&quot;, &quot;classes&quot;: [&quot;pygal-chart&quot;], &quot;css&quot;: [&quot;file://style.css&quot;, &quot;file://graph.css&quot;], &quot;defs&quot;: [], &quot;disable_xml_declaration&quot;: false, &quot;dots_size&quot;: 2.5, &quot;dynamic_print_values&quot;: false, &quot;explicit_size&quot;: false, &quot;fill&quot;: false, &quot;force_uri_protocol&quot;: &quot;https&quot;, &quot;formatter&quot;: null, &quot;half_pie&quot;: false, &quot;height&quot;: 600, &quot;include_x_axis&quot;: false, &quot;inner_radius&quot;: 0, &quot;interpolate&quot;: null, &quot;interpolation_parameters&quot;: {}, &quot;interpolation_precision&quot;: 250, &quot;inverse_y_axis&quot;: false, &quot;js&quot;: [&quot;//kozea.github.io/pygal.js/2.0.x/pygal-tooltips.min.js&quot;], &quot;legend_at_bottom&quot;: false, &quot;legend_at_bottom_columns&quot;: null, &quot;legend_box_size&quot;: 12, &quot;logarithmic&quot;: false, &quot;margin&quot;: 20, &quot;margin_bottom&quot;: null, &quot;margin_left&quot;: null, &quot;margin_right&quot;: null, &quot;margin_top&quot;: null, &quot;max_scale&quot;: 16, &quot;min_scale&quot;: 4, &quot;missing_value_fill_truncation&quot;: &quot;x&quot;, &quot;no_data_text&quot;: &quot;No data&quot;, &quot;no_prefix&quot;: false, &quot;order_min&quot;: null, &quot;pretty_print&quot;: false, &quot;print_labels&quot;: false, &quot;print_values&quot;: false, &quot;print_values_position&quot;: &quot;center&quot;, &quot;print_zeroes&quot;: true, &quot;range&quot;: null, &quot;rounded_bars&quot;: null, &quot;secondary_range&quot;: null, &quot;show_dots&quot;: true, &quot;show_legend&quot;: true, &quot;show_minor_x_labels&quot;: true, &quot;show_minor_y_labels&quot;: true, &quot;show_only_major_dots&quot;: false, &quot;show_x_guides&quot;: false, &quot;show_x_labels&quot;: true, &quot;show_y_guides&quot;: true, &quot;show_y_labels&quot;: true, &quot;spacing&quot;: 10, &quot;stack_from_top&quot;: false, &quot;strict&quot;: false, &quot;stroke&quot;: true, &quot;stroke_style&quot;: null, &quot;style&quot;: {&quot;background&quot;: &quot;rgba(249, 249, 249, 1)&quot;, &quot;ci_colors&quot;: [], &quot;colors&quot;: [&quot;#F44336&quot;, &quot;#3F51B5&quot;, &quot;#009688&quot;, &quot;#FFC107&quot;, &quot;#FF5722&quot;, &quot;#9C27B0&quot;, &quot;#03A9F4&quot;, &quot;#8BC34A&quot;, &quot;#FF9800&quot;, &quot;#E91E63&quot;, &quot;#2196F3&quot;, &quot;#4CAF50&quot;, &quot;#FFEB3B&quot;, &quot;#673AB7&quot;, &quot;#00BCD4&quot;, &quot;#CDDC39&quot;, &quot;#9E9E9E&quot;, &quot;#607D8B&quot;], &quot;font_family&quot;: &quot;Consolas, \\&quot;Liberation Mono\\&quot;, Menlo, Courier, monospace&quot;, &quot;foreground&quot;: &quot;rgba(0, 0, 0, .87)&quot;, &quot;foreground_strong&quot;: &quot;rgba(0, 0, 0, 1)&quot;, &quot;foreground_subtle&quot;: &quot;rgba(0, 0, 0, .54)&quot;, &quot;guide_stroke_dasharray&quot;: &quot;4,4&quot;, &quot;label_font_family&quot;: &quot;Consolas, \\&quot;Liberation Mono\\&quot;, Menlo, Courier, monospace&quot;, &quot;label_font_size&quot;: 10, &quot;legend_font_family&quot;: &quot;Consolas, \\&quot;Liberation Mono\\&quot;, Menlo, Courier, monospace&quot;, &quot;legend_font_size&quot;: 14, &quot;major_guide_stroke_dasharray&quot;: &quot;6,6&quot;, &quot;major_label_font_family&quot;: &quot;Consolas, \\&quot;Liberation Mono\\&quot;, Menlo, Courier, monospace&quot;, &quot;major_label_font_size&quot;: 10, &quot;no_data_font_family&quot;: &quot;Consolas, \\&quot;Liberation Mono\\&quot;, Menlo, Courier, monospace&quot;, &quot;no_data_font_size&quot;: 64, &quot;opacity&quot;: &quot;.7&quot;, &quot;opacity_hover&quot;: &quot;.8&quot;, &quot;plot_background&quot;: &quot;rgba(255, 255, 255, 1)&quot;, &quot;stroke_opacity&quot;: &quot;.8&quot;, &quot;stroke_opacity_hover&quot;: &quot;.9&quot;, &quot;title_font_family&quot;: &quot;Consolas, \\&quot;Liberation Mono\\&quot;, Menlo, Courier, monospace&quot;, &quot;title_font_size&quot;: 16, &quot;tooltip_font_family&quot;: &quot;Consolas, \\&quot;Liberation Mono\\&quot;, Menlo, Courier, monospace&quot;, &quot;tooltip_font_size&quot;: 14, &quot;transition&quot;: &quot;150ms&quot;, &quot;value_background&quot;: &quot;rgba(229, 229, 229, 1)&quot;, &quot;value_colors&quot;: [], &quot;value_font_family&quot;: &quot;Consolas, \\&quot;Liberation Mono\\&quot;, Menlo, Courier, monospace&quot;, &quot;value_font_size&quot;: 16, &quot;value_label_font_family&quot;: &quot;Consolas, \\&quot;Liberation Mono\\&quot;, Menlo, Courier, monospace&quot;, &quot;value_label_font_size&quot;: 10}, &quot;title&quot;: &quot;Retweet Original Tweets plot&quot;, &quot;tooltip_border_radius&quot;: 0, &quot;tooltip_fancy_mode&quot;: true, &quot;truncate_label&quot;: null, &quot;truncate_legend&quot;: null, &quot;width&quot;: 800, &quot;x_label_rotation&quot;: 0, &quot;x_labels&quot;: null, &quot;x_labels_major&quot;: null, &quot;x_labels_major_count&quot;: null, &quot;x_labels_major_every&quot;: null, &quot;x_title&quot;: null, &quot;xrange&quot;: null, &quot;y_label_rotation&quot;: 0, &quot;y_labels&quot;: null, &quot;y_labels_major&quot;: null, &quot;y_labels_major_count&quot;: null, &quot;y_labels_major_every&quot;: null, &quot;y_title&quot;: null, &quot;zero&quot;: 0, &quot;legends&quot;: [&quot;Retweet Count&quot;, &quot;Original Tweet&quot;]}</script><script type=\"text/javascript\" xlink:href=\"https://kozea.github.io/pygal.js/2.0.x/pygal-tooltips.min.js\"/></defs><title>Retweet Original Tweets plot</title><g class=\"graph pie-graph vertical\"><rect class=\"background\" height=\"600\" width=\"800\" x=\"0\" y=\"0\"/><g class=\"plot\" transform=\"translate(159, 46)\"><rect class=\"background\" height=\"534\" width=\"620.4\" x=\"0\" y=\"0\"/><g class=\"series serie-0 color-0\"><g class=\"slices\"><g class=\"slice\"><path class=\"slice reactive tooltip-trigger\" d=\"M310.200000 26.700000 A240.300000 240.300000 0 1 1 70.374177 251.911438 L310.200000 267.000000 A0.000000 0.000000 0 1 0 310.200000 267.000000 z\"/><desc class=\"value\">76</desc><desc class=\"x centered\">392.448334777332</desc><desc class=\"y centered\">354.5855805846826</desc></g></g></g><g class=\"series serie-1 color-1\"><g class=\"slices\"><g class=\"slice\"><path class=\"slice reactive tooltip-trigger\" d=\"M70.374177 251.911438 A240.300000 240.300000 0 0 1 310.200000 26.700000 L310.200000 267.000000 A0.000000 0.000000 0 0 0 310.200000 267.000000 z\"/><desc class=\"value\">24</desc><desc class=\"x centered\">227.951665222668</desc><desc class=\"y centered\">179.41441941531744</desc></g></g></g></g><g class=\"titles\"><text class=\"title plot_title\" x=\"400.0\" y=\"26\">Retweet Original Tweets plot</text></g><g class=\"plot overlay\" transform=\"translate(159, 46)\"><g class=\"series serie-0 color-0\"/><g class=\"series serie-1 color-1\"/></g><g class=\"plot text-overlay\" transform=\"translate(159, 46)\"><g class=\"series serie-0 color-0\"/><g class=\"series serie-1 color-1\"/></g><g class=\"plot tooltip-overlay\" transform=\"translate(159, 46)\"><g class=\"tooltip\" style=\"opacity: 0\" transform=\"translate(0 0)\"><rect class=\"tooltip-box\" height=\"0\" rx=\"0\" ry=\"0\" width=\"0\"/><g class=\"text\"/></g></g><g class=\"legends\" transform=\"translate(10, 56)\"><g class=\"legend reactive activate-serie\" id=\"activate-serie-0\"><rect class=\"color-0 reactive\" height=\"12\" width=\"12\" x=\"0.0\" y=\"1.0\"/><text x=\"17.0\" y=\"11.2\">Retweet Count</text></g><g class=\"legend reactive activate-serie\" id=\"activate-serie-1\"><rect class=\"color-1 reactive\" height=\"12\" width=\"12\" x=\"0.0\" y=\"22.0\"/><text x=\"17.0\" y=\"32.2\">Original Tweet</text></g></g><g class=\"legends\" transform=\"translate(790, 56)\"/></g></svg>"
      ],
      "text/plain": [
       "<IPython.core.display.SVG object>"
      ]
     },
     "execution_count": 19,
     "metadata": {},
     "output_type": "execute_result"
    }
   ],
   "source": [
    "retweet_count=0\n",
    "original_tweet=0\n",
    "for text in tweets['text']:\n",
    "    if text.startswith('RT'):\n",
    "        retweet_count=retweet_count+1\n",
    "    else:\n",
    "        original_tweet = original_tweet+1\n",
    "pie_chart = pg.Pie()\n",
    "pie_chart.title = 'Retweet Original Tweets plot'\n",
    "pie_chart.add('Retweet Count', (retweet_count/(retweet_count+original_tweet)*100))\n",
    "pie_chart.add('Original Tweet',(original_tweet/(retweet_count+original_tweet)*100))\n",
    "SVG(pie_chart.render())"
   ]
  },
  {
   "cell_type": "code",
   "execution_count": 20,
   "metadata": {
    "collapsed": false
   },
   "outputs": [
    {
     "data": {
      "image/png": "[encoded data removed]",
      "text/plain": [
       "<matplotlib.figure.Figure at 0x1d67e5642e8>"
      ]
     },
     "metadata": {},
     "output_type": "display_data"
    }
   ],
   "source": [
    "from wordcloud import WordCloud, STOPWORDS, ImageColorGenerator\n",
    "\n",
    "text = \"test\".join(str(x) for x in tweets['text'])\n",
    "\n",
    "no_urls_no_tags = \" \".join([word for word in text.split()\n",
    "                            if 'http' not in word\n",
    "                            and not word.startswith('@')\n",
    "                            and word != 'RT'\n",
    "                            ])\n",
    "wc = WordCloud(background_color=\"white\", stopwords=STOPWORDS, width=1800,\n",
    "               height=1400)\n",
    "wc.generate(no_urls_no_tags)\n",
    "plt.imshow(wc)\n",
    "plt.axis(\"off\")\n",
    "plt.savefig('mozsprint.png')\n",
    "plt.show()"
   ]
  },
  {
   "cell_type": "code",
   "execution_count": 21,
   "metadata": {
    "collapsed": true
   },
   "outputs": [],
   "source": [
    "sort_by_retweet = (tweets.sort_values(['retweet_count'], ascending=[0])).loc[: 10,['text','lang','retweet_count']]"
   ]
  },
  {
   "cell_type": "code",
   "execution_count": 23,
   "metadata": {
    "collapsed": false
   },
   "outputs": [
    {
     "data": {
      "text/html": [
       "<div>\n",
       "<table border=\"1\" class=\"dataframe\">\n",
       "  <thead>\n",
       "    <tr style=\"text-align: right;\">\n",
       "      <th></th>\n",
       "      <th>text</th>\n",
       "      <th>lang</th>\n",
       "      <th>retweet_count</th>\n",
       "    </tr>\n",
       "  </thead>\n",
       "  <tbody>\n",
       "    <tr>\n",
       "      <th>2</th>\n",
       "      <td>RT @mrylstrp: lets remember this iconic devil ...</td>\n",
       "      <td>en</td>\n",
       "      <td>36371</td>\n",
       "    </tr>\n",
       "    <tr>\n",
       "      <th>42</th>\n",
       "      <td>RT @joanneprada: me leaving the oscars after s...</td>\n",
       "      <td>en</td>\n",
       "      <td>28904</td>\n",
       "    </tr>\n",
       "    <tr>\n",
       "      <th>9</th>\n",
       "      <td>RT @RightWingAngel: “The Forgotten Men and Wom...</td>\n",
       "      <td>en</td>\n",
       "      <td>14654</td>\n",
       "    </tr>\n",
       "    <tr>\n",
       "      <th>25</th>\n",
       "      <td>RT @jimmykimmel: Here’s the INSIDE story of wh...</td>\n",
       "      <td>en</td>\n",
       "      <td>4877</td>\n",
       "    </tr>\n",
       "    <tr>\n",
       "      <th>29</th>\n",
       "      <td>RT @TheGabbieShow: i wish the oscars had a \"be...</td>\n",
       "      <td>en</td>\n",
       "      <td>2855</td>\n",
       "    </tr>\n",
       "    <tr>\n",
       "      <th>44</th>\n",
       "      <td>RT @autism_changes: Actor @GillesMarini using ...</td>\n",
       "      <td>en</td>\n",
       "      <td>2118</td>\n",
       "    </tr>\n",
       "    <tr>\n",
       "      <th>6</th>\n",
       "      <td>RT @autism_changes: Actor @GillesMarini using ...</td>\n",
       "      <td>en</td>\n",
       "      <td>2118</td>\n",
       "    </tr>\n",
       "    <tr>\n",
       "      <th>24</th>\n",
       "      <td>RT @autism_changes: Actor @GillesMarini using ...</td>\n",
       "      <td>en</td>\n",
       "      <td>2118</td>\n",
       "    </tr>\n",
       "    <tr>\n",
       "      <th>18</th>\n",
       "      <td>RT @autism_changes: Actor @GillesMarini using ...</td>\n",
       "      <td>en</td>\n",
       "      <td>2118</td>\n",
       "    </tr>\n",
       "    <tr>\n",
       "      <th>0</th>\n",
       "      <td>RT @RanaHarbi: 2017: The year Al-Qaeda terrori...</td>\n",
       "      <td>en</td>\n",
       "      <td>1572</td>\n",
       "    </tr>\n",
       "    <tr>\n",
       "      <th>41</th>\n",
       "      <td>RT @larryelder: Hillary has \"La La Land's\" bac...</td>\n",
       "      <td>en</td>\n",
       "      <td>747</td>\n",
       "    </tr>\n",
       "    <tr>\n",
       "      <th>4</th>\n",
       "      <td>RT @undomyel: LONG LIVE THE QUEEN. #Oscars htt...</td>\n",
       "      <td>en</td>\n",
       "      <td>330</td>\n",
       "    </tr>\n",
       "    <tr>\n",
       "      <th>32</th>\n",
       "      <td>RT @barkbox: When you get snubbed for achievem...</td>\n",
       "      <td>en</td>\n",
       "      <td>270</td>\n",
       "    </tr>\n",
       "    <tr>\n",
       "      <th>36</th>\n",
       "      <td>RT @JenaC2: Sting's memorable performance at O...</td>\n",
       "      <td>en</td>\n",
       "      <td>205</td>\n",
       "    </tr>\n",
       "    <tr>\n",
       "      <th>35</th>\n",
       "      <td>RT @EmilyBluntAf: NICOLE KIDMAN TOOK MY BREATH...</td>\n",
       "      <td>en</td>\n",
       "      <td>73</td>\n",
       "    </tr>\n",
       "    <tr>\n",
       "      <th>26</th>\n",
       "      <td>RT @lrpeoples: MOONLIGHT #Oscars https://t.co/...</td>\n",
       "      <td>en</td>\n",
       "      <td>54</td>\n",
       "    </tr>\n",
       "    <tr>\n",
       "      <th>20</th>\n",
       "      <td>RT @TheShadeRoom: #MissUniverse pokes fun at t...</td>\n",
       "      <td>en</td>\n",
       "      <td>43</td>\n",
       "    </tr>\n",
       "    <tr>\n",
       "      <th>31</th>\n",
       "      <td>RT @PLLadictos: todavia tengo esperanzas de qu...</td>\n",
       "      <td>es</td>\n",
       "      <td>40</td>\n",
       "    </tr>\n",
       "    <tr>\n",
       "      <th>7</th>\n",
       "      <td>RT @Ivy_Wainimo: Riverwood awards are the Keny...</td>\n",
       "      <td>en</td>\n",
       "      <td>21</td>\n",
       "    </tr>\n",
       "    <tr>\n",
       "      <th>23</th>\n",
       "      <td>RT @Ivy_Wainimo: Riverwood awards are the Keny...</td>\n",
       "      <td>en</td>\n",
       "      <td>21</td>\n",
       "    </tr>\n",
       "    <tr>\n",
       "      <th>12</th>\n",
       "      <td>RT @IndieWire: Oscars 2018: A very early look ...</td>\n",
       "      <td>en</td>\n",
       "      <td>17</td>\n",
       "    </tr>\n",
       "    <tr>\n",
       "      <th>11</th>\n",
       "      <td>RT @IndieWire: Oscars 2018: A very early look ...</td>\n",
       "      <td>en</td>\n",
       "      <td>17</td>\n",
       "    </tr>\n",
       "    <tr>\n",
       "      <th>17</th>\n",
       "      <td>RT @IndieWire: #Moonlight kids return to middl...</td>\n",
       "      <td>en</td>\n",
       "      <td>16</td>\n",
       "    </tr>\n",
       "    <tr>\n",
       "      <th>37</th>\n",
       "      <td>RT @MyCountryNation: If you thought watching t...</td>\n",
       "      <td>en</td>\n",
       "      <td>13</td>\n",
       "    </tr>\n",
       "    <tr>\n",
       "      <th>40</th>\n",
       "      <td>RT @LiberatedCit: \"New Trump\" #tcot #MAGA #Boy...</td>\n",
       "      <td>en</td>\n",
       "      <td>10</td>\n",
       "    </tr>\n",
       "    <tr>\n",
       "      <th>39</th>\n",
       "      <td>RT @m_0zx: جنون تاكمورا 😂 😂 😂 💔\\n#هاجيمي_نو_اي...</td>\n",
       "      <td>ar</td>\n",
       "      <td>10</td>\n",
       "    </tr>\n",
       "    <tr>\n",
       "      <th>45</th>\n",
       "      <td>RT @Better_4_US: The best picture flub is mask...</td>\n",
       "      <td>en</td>\n",
       "      <td>7</td>\n",
       "    </tr>\n",
       "    <tr>\n",
       "      <th>49</th>\n",
       "      <td>RT @epale_us: #Oscars 2017 'In Memoriam' Full ...</td>\n",
       "      <td>en</td>\n",
       "      <td>6</td>\n",
       "    </tr>\n",
       "    <tr>\n",
       "      <th>48</th>\n",
       "      <td>RT @epale_us: #Oscars 2017 'In Memoriam' Full ...</td>\n",
       "      <td>en</td>\n",
       "      <td>6</td>\n",
       "    </tr>\n",
       "    <tr>\n",
       "      <th>14</th>\n",
       "      <td>RT @filmekimi_iksv: #filmekimi16 filmlerinden ...</td>\n",
       "      <td>tr</td>\n",
       "      <td>4</td>\n",
       "    </tr>\n",
       "    <tr>\n",
       "      <th>27</th>\n",
       "      <td>RT @Ricordel_N: La liste des caméras utilisées...</td>\n",
       "      <td>fr</td>\n",
       "      <td>3</td>\n",
       "    </tr>\n",
       "    <tr>\n",
       "      <th>8</th>\n",
       "      <td>RT @Ricordel_N: La liste des caméras utilisées...</td>\n",
       "      <td>fr</td>\n",
       "      <td>3</td>\n",
       "    </tr>\n",
       "    <tr>\n",
       "      <th>1</th>\n",
       "      <td>RT @ElyCarter89: give an oscar to this man @Wi...</td>\n",
       "      <td>en</td>\n",
       "      <td>2</td>\n",
       "    </tr>\n",
       "    <tr>\n",
       "      <th>3</th>\n",
       "      <td>RT @hotelsdotcom: 🎬 Head out to La La Los Ange...</td>\n",
       "      <td>en</td>\n",
       "      <td>2</td>\n",
       "    </tr>\n",
       "    <tr>\n",
       "      <th>16</th>\n",
       "      <td>RT @filmekimi_iksv: #filmekimi16 filmlerinden ...</td>\n",
       "      <td>tr</td>\n",
       "      <td>2</td>\n",
       "    </tr>\n",
       "    <tr>\n",
       "      <th>10</th>\n",
       "      <td>RT @MatterConcern: New details in case of Osca...</td>\n",
       "      <td>en</td>\n",
       "      <td>1</td>\n",
       "    </tr>\n",
       "  </tbody>\n",
       "</table>\n",
       "</div>"
      ],
      "text/plain": [
       "                                                 text lang  retweet_count\n",
       "2   RT @mrylstrp: lets remember this iconic devil ...   en          36371\n",
       "42  RT @joanneprada: me leaving the oscars after s...   en          28904\n",
       "9   RT @RightWingAngel: “The Forgotten Men and Wom...   en          14654\n",
       "25  RT @jimmykimmel: Here’s the INSIDE story of wh...   en           4877\n",
       "29  RT @TheGabbieShow: i wish the oscars had a \"be...   en           2855\n",
       "44  RT @autism_changes: Actor @GillesMarini using ...   en           2118\n",
       "6   RT @autism_changes: Actor @GillesMarini using ...   en           2118\n",
       "24  RT @autism_changes: Actor @GillesMarini using ...   en           2118\n",
       "18  RT @autism_changes: Actor @GillesMarini using ...   en           2118\n",
       "0   RT @RanaHarbi: 2017: The year Al-Qaeda terrori...   en           1572\n",
       "41  RT @larryelder: Hillary has \"La La Land's\" bac...   en            747\n",
       "4   RT @undomyel: LONG LIVE THE QUEEN. #Oscars htt...   en            330\n",
       "32  RT @barkbox: When you get snubbed for achievem...   en            270\n",
       "36  RT @JenaC2: Sting's memorable performance at O...   en            205\n",
       "35  RT @EmilyBluntAf: NICOLE KIDMAN TOOK MY BREATH...   en             73\n",
       "26  RT @lrpeoples: MOONLIGHT #Oscars https://t.co/...   en             54\n",
       "20  RT @TheShadeRoom: #MissUniverse pokes fun at t...   en             43\n",
       "31  RT @PLLadictos: todavia tengo esperanzas de qu...   es             40\n",
       "7   RT @Ivy_Wainimo: Riverwood awards are the Keny...   en             21\n",
       "23  RT @Ivy_Wainimo: Riverwood awards are the Keny...   en             21\n",
       "12  RT @IndieWire: Oscars 2018: A very early look ...   en             17\n",
       "11  RT @IndieWire: Oscars 2018: A very early look ...   en             17\n",
       "17  RT @IndieWire: #Moonlight kids return to middl...   en             16\n",
       "37  RT @MyCountryNation: If you thought watching t...   en             13\n",
       "40  RT @LiberatedCit: \"New Trump\" #tcot #MAGA #Boy...   en             10\n",
       "39  RT @m_0zx: جنون تاكمورا 😂 😂 😂 💔\\n#هاجيمي_نو_اي...   ar             10\n",
       "45  RT @Better_4_US: The best picture flub is mask...   en              7\n",
       "49  RT @epale_us: #Oscars 2017 'In Memoriam' Full ...   en              6\n",
       "48  RT @epale_us: #Oscars 2017 'In Memoriam' Full ...   en              6\n",
       "14  RT @filmekimi_iksv: #filmekimi16 filmlerinden ...   tr              4\n",
       "27  RT @Ricordel_N: La liste des caméras utilisées...   fr              3\n",
       "8   RT @Ricordel_N: La liste des caméras utilisées...   fr              3\n",
       "1   RT @ElyCarter89: give an oscar to this man @Wi...   en              2\n",
       "3   RT @hotelsdotcom: 🎬 Head out to La La Los Ange...   en              2\n",
       "16  RT @filmekimi_iksv: #filmekimi16 filmlerinden ...   tr              2\n",
       "10  RT @MatterConcern: New details in case of Osca...   en              1"
      ]
     },
     "execution_count": 23,
     "metadata": {},
     "output_type": "execute_result"
    }
   ],
   "source": [
    "sort_by_retweet.loc[:10]"
   ]
  },
  {
   "cell_type": "code",
   "execution_count": 26,
   "metadata": {
    "collapsed": true
   },
   "outputs": [],
   "source": [
    "impression = tweets['retweet_count'].sum()+tweets['favorite_count'].sum()"
   ]
  },
  {
   "cell_type": "code",
   "execution_count": 27,
   "metadata": {
    "collapsed": false
   },
   "outputs": [
    {
     "data": {
      "text/plain": [
       "99632"
      ]
     },
     "execution_count": 27,
     "metadata": {},
     "output_type": "execute_result"
    }
   ],
   "source": [
    "impression"
   ]
  },
  {
   "cell_type": "code",
   "execution_count": null,
   "metadata": {
    "collapsed": true
   },
   "outputs": [],
   "source": []
  }
 ],
 "metadata": {
  "kernelspec": {
   "display_name": "Python 3",
   "language": "python",
   "name": "python3"
  },
  "language_info": {
   "codemirror_mode": {
    "name": "ipython",
    "version": 3
   },
   "file_extension": ".py",
   "mimetype": "text/x-python",
   "name": "python",
   "nbconvert_exporter": "python",
   "pygments_lexer": "ipython3",
   "version": "3.6.0"
  }
 },
 "nbformat": 4,
 "nbformat_minor": 2
}
